{
 "cells": [
  {
   "cell_type": "code",
   "execution_count": 3,
   "id": "b3ffbc7b-6d47-4693-a98a-76752b3e88c1",
   "metadata": {},
   "outputs": [],
   "source": [
    "import numpy as np\n",
    "import pandas as pd\n",
    "import warnings \n",
    "warnings.filterwarnings('ignore')"
   ]
  },
  {
   "cell_type": "code",
   "execution_count": 4,
   "id": "7001d11a-3701-46dc-af29-c04695ff8dfa",
   "metadata": {},
   "outputs": [
    {
     "data": {
      "text/plain": [
       "'/home/jovyan/PlanetaryComputerExamples/Kaggle IMDB'"
      ]
     },
     "execution_count": 4,
     "metadata": {},
     "output_type": "execute_result"
    }
   ],
   "source": [
    "import os\n",
    "path = os.getcwd()\n",
    "path"
   ]
  },
  {
   "cell_type": "code",
   "execution_count": 5,
   "id": "c13ddb1c-027d-4a47-9d9b-7f801e7dab74",
   "metadata": {},
   "outputs": [],
   "source": [
    "os.listdir(path)"
   ]
  },
  {
   "cell_type": "code",
   "execution_count": 6,
   "id": "62928c99-1286-4266-bb75-8c6ab269f086",
   "metadata": {},
   "outputs": [],
   "source": [
    "#loading training and testing datasets\n",
    "import pandas as pd\n",
    "train_data=pd.read_csv(path + '/labeledTrainData.tsv',header = 0, delimiter = '\\t')\n",
    "test_data=pd.read_csv(path + '/testData.tsv',header = 0, delimiter = '\\t')"
   ]
  },
  {
   "cell_type": "code",
   "execution_count": 8,
   "id": "0e7fb50a-988b-4941-a25a-93fcda865ad8",
   "metadata": {},
   "outputs": [],
   "source": [
    "from scipy.sparse import hstack # 水平堆叠稀疏矩阵(按列)\n",
    "from sklearn.feature_extraction.text import TfidfVectorizer #把原始文本转化为tf-idf的特征矩阵，文本相似度计算"
   ]
  },
  {
   "cell_type": "code",
   "execution_count": 9,
   "id": "dbb505dd-b796-4aae-8f9b-13420b6a1613",
   "metadata": {},
   "outputs": [],
   "source": [
    "all_text=train_data['review']\n",
    "train_text=train_data['review']\n",
    "y=train_data['sentiment']"
   ]
  },
  {
   "cell_type": "code",
   "execution_count": 10,
   "id": "90e0fbef-545a-48da-a2cd-ee376bc68e75",
   "metadata": {},
   "outputs": [
    {
     "data": {
      "text/plain": [
       "TfidfVectorizer(max_features=10000, stop_words='english',\n",
       "                strip_accents='unicode', sublinear_tf=True,\n",
       "                token_pattern='\\\\w{1,}')"
      ]
     },
     "execution_count": 10,
     "metadata": {},
     "output_type": "execute_result"
    }
   ],
   "source": [
    "# 词袋向量\n",
    "# tf-idf 统计的方法统计词频\n",
    "word_vectorizer = TfidfVectorizer(sublinear_tf=True, # 将tf替换为1 + log(tf)\n",
    "                                  strip_accents='unicode', # 在预处理步骤中删除重音符号并执行其他字符规范化\n",
    "                                  analyzer='word', # 特征是由单词组成\n",
    "                                  token_pattern=r'\\w{1,}', # 等价于 '[^A-Za-z0-9_]'，至少匹配一次\n",
    "                                  stop_words='english', # 直接过滤停用词\n",
    "                                  ngram_range=(1, 1), # 仅使用双字符\n",
    "                                  max_features=10000) # 只考虑根据语料库中的词汇频率排序的顶部\n",
    "word_vectorizer.fit(all_text) # 从训练集学习词汇和idf\n",
    "word_vectorizer"
   ]
  },
  {
   "cell_type": "code",
   "execution_count": 11,
   "id": "423199b7-09ec-477f-812f-c253721622b9",
   "metadata": {},
   "outputs": [],
   "source": [
    "train_word_features = word_vectorizer.transform(train_text) # 转换成特征矩阵"
   ]
  },
  {
   "cell_type": "code",
   "execution_count": 12,
   "id": "06eb9905-071d-423a-a090-cd6e604999e0",
   "metadata": {},
   "outputs": [
    {
     "data": {
      "text/plain": [
       "<25000x10000 sparse matrix of type '<class 'numpy.float64'>'\n",
       "\twith 2031487 stored elements in Compressed Sparse Row format>"
      ]
     },
     "execution_count": 12,
     "metadata": {},
     "output_type": "execute_result"
    }
   ],
   "source": [
    "train_word_features"
   ]
  },
  {
   "cell_type": "code",
   "execution_count": 14,
   "id": "966dee38-8eaa-4ca8-9bd0-70acd4c76dc8",
   "metadata": {},
   "outputs": [],
   "source": [
    "char_vectorizer = TfidfVectorizer(sublinear_tf=True, \n",
    "                                  strip_accents='unicode', \n",
    "                                  analyzer='char',\n",
    "                                  stop_words='english', \n",
    "                                  ngram_range=(2, 6), \n",
    "                                  max_features=50000)"
   ]
  },
  {
   "cell_type": "code",
   "execution_count": 15,
   "id": "5e933f98-10ed-4f45-aecf-cad06bca1ff4",
   "metadata": {},
   "outputs": [
    {
     "data": {
      "text/plain": [
       "TfidfVectorizer(analyzer='char', max_features=50000, ngram_range=(2, 6),\n",
       "                stop_words='english', strip_accents='unicode',\n",
       "                sublinear_tf=True)"
      ]
     },
     "execution_count": 15,
     "metadata": {},
     "output_type": "execute_result"
    }
   ],
   "source": [
    "char_vectorizer.fit(all_text)\n",
    "char_vectorizer"
   ]
  },
  {
   "cell_type": "code",
   "execution_count": 16,
   "id": "b50b2e0c-3e41-488e-ae6a-3f909a7dc893",
   "metadata": {},
   "outputs": [
    {
     "data": {
      "text/plain": [
       "<25000x50000 sparse matrix of type '<class 'numpy.float64'>'\n",
       "\twith 76764116 stored elements in Compressed Sparse Row format>"
      ]
     },
     "execution_count": 16,
     "metadata": {},
     "output_type": "execute_result"
    }
   ],
   "source": [
    "train_char_features = char_vectorizer.transform(train_text)\n",
    "train_char_features"
   ]
  },
  {
   "cell_type": "code",
   "execution_count": 17,
   "id": "19a2f18c-27fc-4d5c-a15e-548927e3806f",
   "metadata": {},
   "outputs": [
    {
     "data": {
      "text/plain": [
       "<25000x60000 sparse matrix of type '<class 'numpy.float64'>'\n",
       "\twith 78795603 stored elements in Compressed Sparse Row format>"
      ]
     },
     "execution_count": 17,
     "metadata": {},
     "output_type": "execute_result"
    }
   ],
   "source": [
    "train_features = hstack([train_char_features, train_word_features]) # 矩阵拼接，特征是词和字符\n",
    "train_features"
   ]
  },
  {
   "cell_type": "code",
   "execution_count": 18,
   "id": "80bb9364-e234-4bc7-ac42-7b26a191d589",
   "metadata": {},
   "outputs": [],
   "source": [
    "from sklearn.model_selection import train_test_split\n",
    "X_train, X_test, y_train, y_test = train_test_split(train_features, y,test_size=0.2,random_state=42)\n",
    "\n",
    "from sklearn.linear_model import LogisticRegression\n",
    "lr=LogisticRegression()\n",
    "\n",
    "lr.fit(X_train,y_train)\n",
    "preds=lr.predict(X_test)"
   ]
  },
  {
   "cell_type": "code",
   "execution_count": 24,
   "id": "960f0224-99cb-4f7a-9dde-a8a2f22b6d0a",
   "metadata": {},
   "outputs": [
    {
     "name": "stdout",
     "output_type": "stream",
     "text": [
      "classification_report\n",
      "              precision    recall  f1-score   support\n",
      "\n",
      "           0       0.90      0.91      0.90      2459\n",
      "           1       0.91      0.90      0.90      2541\n",
      "\n",
      "    accuracy                           0.90      5000\n",
      "   macro avg       0.90      0.90      0.90      5000\n",
      "weighted avg       0.90      0.90      0.90      5000\n",
      "\n"
     ]
    }
   ],
   "source": [
    "from sklearn.metrics import classification_report, confusion_matrix\n",
    "print(\"classification_report\")\n",
    "print(classification_report(preds,y_test))"
   ]
  },
  {
   "cell_type": "code",
   "execution_count": 25,
   "id": "1ed97df7-7c62-4ee9-90e2-9e04c158edd3",
   "metadata": {},
   "outputs": [
    {
     "name": "stdout",
     "output_type": "stream",
     "text": [
      "confusion_matrix\n"
     ]
    },
    {
     "data": {
      "text/plain": [
       "array([[2228,  231],\n",
       "       [ 253, 2288]])"
      ]
     },
     "execution_count": 25,
     "metadata": {},
     "output_type": "execute_result"
    }
   ],
   "source": [
    "print(\"confusion_matrix\")\n",
    "confusion_matrix(preds,y_test)"
   ]
  },
  {
   "cell_type": "code",
   "execution_count": 20,
   "id": "cfd6018f-c559-4e75-95c2-3868df21190c",
   "metadata": {},
   "outputs": [
    {
     "data": {
      "text/plain": [
       "TfidfVectorizer(max_features=10000, stop_words='english',\n",
       "                strip_accents='unicode', sublinear_tf=True,\n",
       "                token_pattern='\\\\w{1,}')"
      ]
     },
     "execution_count": 20,
     "metadata": {},
     "output_type": "execute_result"
    }
   ],
   "source": [
    "test_text = test_data['review']\n",
    "all_ = pd.concat([train_text, test_text])\n",
    "word_vectorizer.fit(all_)\n",
    "word_vectorizer"
   ]
  },
  {
   "cell_type": "code",
   "execution_count": 21,
   "id": "96f99668-8095-4da3-ac26-fd57d2b9bd72",
   "metadata": {},
   "outputs": [],
   "source": [
    "train_word_features_ = word_vectorizer.transform(train_text)\n",
    "test_word_features_ = word_vectorizer.transform(test_text)"
   ]
  },
  {
   "cell_type": "code",
   "execution_count": 26,
   "id": "eea42380-7463-4e89-8f16-480f373e84ae",
   "metadata": {},
   "outputs": [
    {
     "data": {
      "text/plain": [
       "TfidfVectorizer(analyzer='char', max_features=50000, ngram_range=(2, 6),\n",
       "                stop_words='english', strip_accents='unicode',\n",
       "                sublinear_tf=True)"
      ]
     },
     "execution_count": 26,
     "metadata": {},
     "output_type": "execute_result"
    }
   ],
   "source": [
    "char_vectorizer.fit(all_)"
   ]
  },
  {
   "cell_type": "code",
   "execution_count": 27,
   "id": "9c6a97af-1189-4ecf-bbf0-a038da1e7463",
   "metadata": {},
   "outputs": [],
   "source": [
    "train_char_features = char_vectorizer.transform(train_text)\n",
    "test_char_features = char_vectorizer.transform(test_text)"
   ]
  },
  {
   "cell_type": "code",
   "execution_count": 30,
   "id": "d5369463-53e7-4d94-a50d-61998a21df15",
   "metadata": {},
   "outputs": [],
   "source": [
    "train_features_ = hstack([train_char_features, train_word_features_])\n",
    "test_features_ = hstack([test_char_features, test_word_features_])"
   ]
  },
  {
   "cell_type": "code",
   "execution_count": 32,
   "id": "df98e5f3-4283-4029-9d3b-889e292fc430",
   "metadata": {},
   "outputs": [],
   "source": [
    "lr=LogisticRegression(C=0.1,solver='sag') # 随机梯度下降, lambda = 0.1\n",
    "lr.fit(train_features,y)\n",
    "final_preds=lr.predict(test_features_)"
   ]
  },
  {
   "cell_type": "code",
   "execution_count": 33,
   "id": "df1af490-baec-4072-8f7e-cd26b4a6c373",
   "metadata": {},
   "outputs": [],
   "source": [
    "test_data['sentiment']=final_preds\n",
    "test_data=test_data[['id','sentiment']]\n",
    "test_data.to_csv(path + '/sampleSubmission.csv',index=False)"
   ]
  },
  {
   "cell_type": "code",
   "execution_count": null,
   "id": "8c5c2dee-31d7-4dbb-b60a-7f39a462810e",
   "metadata": {},
   "outputs": [],
   "source": [
    "preds=clf.predict(X_test)\n",
    "clf.score(X_test, preds)"
   ]
  }
 ],
 "metadata": {
  "kernelspec": {
   "display_name": "Python 3 (ipykernel)",
   "language": "python",
   "name": "python3"
  },
  "language_info": {
   "codemirror_mode": {
    "name": "ipython",
    "version": 3
   },
   "file_extension": ".py",
   "mimetype": "text/x-python",
   "name": "python",
   "nbconvert_exporter": "python",
   "pygments_lexer": "ipython3",
   "version": "3.9.7"
  }
 },
 "nbformat": 4,
 "nbformat_minor": 5
}
