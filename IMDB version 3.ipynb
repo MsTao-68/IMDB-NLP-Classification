{
 "cells": [
  {
   "cell_type": "code",
   "execution_count": 1,
   "id": "98c1a177",
   "metadata": {
    "execution": {
     "iopub.execute_input": "2022-05-08T11:29:04.451455Z",
     "iopub.status.busy": "2022-05-08T11:29:04.450546Z",
     "iopub.status.idle": "2022-05-08T11:29:05.953332Z",
     "shell.execute_reply": "2022-05-08T11:29:05.952494Z"
    },
    "id": "AY8FaWhCD1XI",
    "papermill": {
     "duration": 1.546344,
     "end_time": "2022-05-08T11:29:05.955625",
     "exception": false,
     "start_time": "2022-05-08T11:29:04.409281",
     "status": "completed"
    },
    "tags": []
   },
   "outputs": [],
   "source": [
    "import torch"
   ]
  },
  {
   "cell_type": "code",
   "execution_count": 2,
   "id": "8ac1b44b",
   "metadata": {
    "execution": {
     "iopub.execute_input": "2022-05-08T11:29:06.024142Z",
     "iopub.status.busy": "2022-05-08T11:29:06.023261Z",
     "iopub.status.idle": "2022-05-08T11:29:06.085019Z",
     "shell.execute_reply": "2022-05-08T11:29:06.084228Z"
    },
    "id": "CrE09F90EjQK",
    "papermill": {
     "duration": 0.09786,
     "end_time": "2022-05-08T11:29:06.087131",
     "exception": false,
     "start_time": "2022-05-08T11:29:05.989271",
     "status": "completed"
    },
    "tags": []
   },
   "outputs": [],
   "source": [
    "device='cuda' if torch.cuda.is_available() else 'cpu'"
   ]
  },
  {
   "cell_type": "code",
   "execution_count": 3,
   "id": "bf223562",
   "metadata": {
    "execution": {
     "iopub.execute_input": "2022-05-08T11:29:06.182443Z",
     "iopub.status.busy": "2022-05-08T11:29:06.182116Z",
     "iopub.status.idle": "2022-05-08T11:29:07.009786Z",
     "shell.execute_reply": "2022-05-08T11:29:07.008964Z"
    },
    "id": "bpBbIrOBFu7r",
    "outputId": "d7c770bb-7b14-4248-f1ed-7dc47e24270b",
    "papermill": {
     "duration": 0.889777,
     "end_time": "2022-05-08T11:29:07.011863",
     "exception": false,
     "start_time": "2022-05-08T11:29:06.122086",
     "status": "completed"
    },
    "tags": []
   },
   "outputs": [
    {
     "name": "stdout",
     "output_type": "stream",
     "text": [
      "Sun May  8 11:29:06 2022       \r\n",
      "+-----------------------------------------------------------------------------+\r\n",
      "| NVIDIA-SMI 470.82.01    Driver Version: 470.82.01    CUDA Version: 11.4     |\r\n",
      "|-------------------------------+----------------------+----------------------+\r\n",
      "| GPU  Name        Persistence-M| Bus-Id        Disp.A | Volatile Uncorr. ECC |\r\n",
      "| Fan  Temp  Perf  Pwr:Usage/Cap|         Memory-Usage | GPU-Util  Compute M. |\r\n",
      "|                               |                      |               MIG M. |\r\n",
      "|===============================+======================+======================|\r\n",
      "|   0  Tesla P100-PCIE...  Off  | 00000000:00:04.0 Off |                    0 |\r\n",
      "| N/A   36C    P0    26W / 250W |      2MiB / 16280MiB |      0%      Default |\r\n",
      "|                               |                      |                  N/A |\r\n",
      "+-------------------------------+----------------------+----------------------+\r\n",
      "                                                                               \r\n",
      "+-----------------------------------------------------------------------------+\r\n",
      "| Processes:                                                                  |\r\n",
      "|  GPU   GI   CI        PID   Type   Process name                  GPU Memory |\r\n",
      "|        ID   ID                                                   Usage      |\r\n",
      "|=============================================================================|\r\n",
      "|  No running processes found                                                 |\r\n",
      "+-----------------------------------------------------------------------------+\r\n"
     ]
    }
   ],
   "source": [
    "!nvidia-smi"
   ]
  },
  {
   "cell_type": "code",
   "execution_count": 4,
   "id": "fa96633a",
   "metadata": {
    "execution": {
     "iopub.execute_input": "2022-05-08T11:29:07.080909Z",
     "iopub.status.busy": "2022-05-08T11:29:07.080306Z",
     "iopub.status.idle": "2022-05-08T11:29:17.512161Z",
     "shell.execute_reply": "2022-05-08T11:29:17.511326Z"
    },
    "id": "eH_eGE4AFw-V",
    "outputId": "809aba7d-1cdb-4719-fe70-452b1c285977",
    "papermill": {
     "duration": 10.469395,
     "end_time": "2022-05-08T11:29:17.515340",
     "exception": false,
     "start_time": "2022-05-08T11:29:07.045945",
     "status": "completed"
    },
    "tags": []
   },
   "outputs": [
    {
     "name": "stdout",
     "output_type": "stream",
     "text": [
      "Requirement already satisfied: transformers in /opt/conda/lib/python3.7/site-packages (4.18.0)\r\n",
      "Requirement already satisfied: numpy>=1.17 in /opt/conda/lib/python3.7/site-packages (from transformers) (1.21.6)\r\n",
      "Requirement already satisfied: sacremoses in /opt/conda/lib/python3.7/site-packages (from transformers) (0.0.49)\r\n",
      "Requirement already satisfied: importlib-metadata in /opt/conda/lib/python3.7/site-packages (from transformers) (4.11.3)\r\n",
      "Requirement already satisfied: tqdm>=4.27 in /opt/conda/lib/python3.7/site-packages (from transformers) (4.63.0)\r\n",
      "Requirement already satisfied: tokenizers!=0.11.3,<0.13,>=0.11.1 in /opt/conda/lib/python3.7/site-packages (from transformers) (0.12.1)\r\n",
      "Requirement already satisfied: pyyaml>=5.1 in /opt/conda/lib/python3.7/site-packages (from transformers) (6.0)\r\n",
      "Requirement already satisfied: requests in /opt/conda/lib/python3.7/site-packages (from transformers) (2.27.1)\r\n",
      "Requirement already satisfied: filelock in /opt/conda/lib/python3.7/site-packages (from transformers) (3.6.0)\r\n",
      "Requirement already satisfied: regex!=2019.12.17 in /opt/conda/lib/python3.7/site-packages (from transformers) (2021.11.10)\r\n",
      "Requirement already satisfied: huggingface-hub<1.0,>=0.1.0 in /opt/conda/lib/python3.7/site-packages (from transformers) (0.5.1)\r\n",
      "Requirement already satisfied: packaging>=20.0 in /opt/conda/lib/python3.7/site-packages (from transformers) (21.3)\r\n",
      "Requirement already satisfied: typing-extensions>=3.7.4.3 in /opt/conda/lib/python3.7/site-packages (from huggingface-hub<1.0,>=0.1.0->transformers) (4.2.0)\r\n",
      "Requirement already satisfied: pyparsing!=3.0.5,>=2.0.2 in /opt/conda/lib/python3.7/site-packages (from packaging>=20.0->transformers) (3.0.7)\r\n",
      "Requirement already satisfied: zipp>=0.5 in /opt/conda/lib/python3.7/site-packages (from importlib-metadata->transformers) (3.7.0)\r\n",
      "Requirement already satisfied: charset-normalizer~=2.0.0 in /opt/conda/lib/python3.7/site-packages (from requests->transformers) (2.0.12)\r\n",
      "Requirement already satisfied: idna<4,>=2.5 in /opt/conda/lib/python3.7/site-packages (from requests->transformers) (3.3)\r\n",
      "Requirement already satisfied: urllib3<1.27,>=1.21.1 in /opt/conda/lib/python3.7/site-packages (from requests->transformers) (1.26.8)\r\n",
      "Requirement already satisfied: certifi>=2017.4.17 in /opt/conda/lib/python3.7/site-packages (from requests->transformers) (2021.10.8)\r\n",
      "Requirement already satisfied: joblib in /opt/conda/lib/python3.7/site-packages (from sacremoses->transformers) (1.0.1)\r\n",
      "Requirement already satisfied: six in /opt/conda/lib/python3.7/site-packages (from sacremoses->transformers) (1.16.0)\r\n",
      "Requirement already satisfied: click in /opt/conda/lib/python3.7/site-packages (from sacremoses->transformers) (8.0.4)\r\n",
      "\u001b[33mWARNING: Running pip as the 'root' user can result in broken permissions and conflicting behaviour with the system package manager. It is recommended to use a virtual environment instead: https://pip.pypa.io/warnings/venv\u001b[0m\u001b[33m\r\n",
      "\u001b[0m"
     ]
    }
   ],
   "source": [
    "!pip install transformers"
   ]
  },
  {
   "cell_type": "code",
   "execution_count": 5,
   "id": "6d8846bc",
   "metadata": {
    "execution": {
     "iopub.execute_input": "2022-05-08T11:29:17.633708Z",
     "iopub.status.busy": "2022-05-08T11:29:17.633446Z",
     "iopub.status.idle": "2022-05-08T11:29:20.368964Z",
     "shell.execute_reply": "2022-05-08T11:29:20.368042Z"
    },
    "id": "oh_NDI3xFzYF",
    "outputId": "610a8f09-8e0c-4622-f481-8b7e7086223a",
    "papermill": {
     "duration": 2.797259,
     "end_time": "2022-05-08T11:29:20.370978",
     "exception": false,
     "start_time": "2022-05-08T11:29:17.573719",
     "status": "completed"
    },
    "tags": []
   },
   "outputs": [
    {
     "name": "stderr",
     "output_type": "stream",
     "text": [
      "/opt/conda/lib/python3.7/site-packages/IPython/core/interactiveshell.py:3524: FutureWarning: In a future version of pandas all arguments of read_csv except for the argument 'filepath_or_buffer' will be keyword-only\n",
      "  exec(code_obj, self.user_global_ns, self.user_ns)\n",
      "/opt/conda/lib/python3.7/site-packages/IPython/core/interactiveshell.py:3524: FutureWarning: The error_bad_lines argument has been deprecated and will be removed in a future version.\n",
      "\n",
      "\n",
      "  exec(code_obj, self.user_global_ns, self.user_ns)\n",
      "b'Skipping line 43043: expected 2 fields, saw 3\\n'\n"
     ]
    }
   ],
   "source": [
    "# import re\n",
    "# import os \n",
    "# def rm_tags(text):\n",
    "#   re_tags = re.compile(r'<[^>]+>')\n",
    "#   return re_tags.sub(' ',text)\n",
    "\n",
    "# def read_files(filetype):\n",
    "#   path = \"aclImdb/\"\n",
    "#   file_list=[]\n",
    "  \n",
    "#   positive_path = path + filetype + \"/pos/\"\n",
    "#   for f in os.listdir(positive_path):\n",
    "#       file_list += [positive_path + f]\n",
    "      \n",
    "#   negative_path = path + filetype + \"/neg/\"\n",
    "#   for f in os.listdir(negative_path):\n",
    "#       file_list += [negative_path + f]   \n",
    "      \n",
    "#   print(\"read\",filetype,\"files:\",len(file_list))\n",
    "  \n",
    "#   all_labels = ([1]*12500+[0]*12500)\n",
    "  \n",
    "#   all_texts = []\n",
    "#   for fi in file_list:\n",
    "#       with open(fi,encoding = 'utf8') as file_input:\n",
    "#           all_texts += [rm_tags(\" \".join(file_input.readlines()))]\n",
    "          \n",
    "#   return all_labels,all_texts\n",
    "\n",
    "# y_train,train_text = read_files(\"train\")\n",
    "# y_test,test_text = read_files(\"test\")\n",
    "\n",
    "# 本地路径\n",
    "# train=pd.read_csv(\"E:/dasein_py/Data Analysis/nlp 大作业/IMDB/labeledTrainData.tsv\",'\\t', error_bad_lines= False)\n",
    "# test=pd.read_csv(\"E:/dasein_py/Data Analysis/nlp 大作业/IMDB/testData.tsv\",\"\\t\", error_bad_lines=False)\n",
    "# unlabeled = pd.read_csv(\"E:/dasein_py/Data Analysis/nlp 大作业/IMDB/unlabeledTrainData.tsv\", \"\\t\", error_bad_lines=False)\n",
    "# 在线路径 ../input/word2vec-nlp-tutorial/labeledTrainData.tsv.zip\n",
    "import pandas as pd\n",
    "train=pd.read_csv(\"../input/word2vec-nlp-tutorial/labeledTrainData.tsv.zip\",'\\t', error_bad_lines= False)\n",
    "test=pd.read_csv(\"../input/word2vec-nlp-tutorial/testData.tsv.zip\",\"\\t\", error_bad_lines=False)\n",
    "unlabeled = pd.read_csv(\"../input/word2vec-nlp-tutorial/unlabeledTrainData.tsv.zip\", \"\\t\", error_bad_lines=False)"
   ]
  },
  {
   "cell_type": "code",
   "execution_count": 6,
   "id": "1a7f964c",
   "metadata": {
    "execution": {
     "iopub.execute_input": "2022-05-08T11:29:20.444379Z",
     "iopub.status.busy": "2022-05-08T11:29:20.444142Z",
     "iopub.status.idle": "2022-05-08T11:29:27.874081Z",
     "shell.execute_reply": "2022-05-08T11:29:27.873427Z"
    },
    "id": "FtYoquMdGsUe",
    "outputId": "f09fd945-b11d-42de-ff3a-ec8962dbe09c",
    "papermill": {
     "duration": 7.468184,
     "end_time": "2022-05-08T11:29:27.875834",
     "exception": false,
     "start_time": "2022-05-08T11:29:20.407650",
     "status": "completed"
    },
    "tags": []
   },
   "outputs": [
    {
     "name": "stdout",
     "output_type": "stream",
     "text": [
      "Loading BERT tokenizer...\n"
     ]
    },
    {
     "data": {
      "application/vnd.jupyter.widget-view+json": {
       "model_id": "c4fb63c0bade4813b0740d98430a3dd8",
       "version_major": 2,
       "version_minor": 0
      },
      "text/plain": [
       "Downloading:   0%|          | 0.00/226k [00:00<?, ?B/s]"
      ]
     },
     "metadata": {},
     "output_type": "display_data"
    },
    {
     "data": {
      "application/vnd.jupyter.widget-view+json": {
       "model_id": "9c536d444787448f99965f53631925fe",
       "version_major": 2,
       "version_minor": 0
      },
      "text/plain": [
       "Downloading:   0%|          | 0.00/28.0 [00:00<?, ?B/s]"
      ]
     },
     "metadata": {},
     "output_type": "display_data"
    },
    {
     "data": {
      "application/vnd.jupyter.widget-view+json": {
       "model_id": "c196dba896a34d0dbcfc3cdc127151b8",
       "version_major": 2,
       "version_minor": 0
      },
      "text/plain": [
       "Downloading:   0%|          | 0.00/570 [00:00<?, ?B/s]"
      ]
     },
     "metadata": {},
     "output_type": "display_data"
    }
   ],
   "source": [
    "from transformers import BertTokenizer\n",
    "\n",
    "# Load the BERT tokenizer.\n",
    "print('Loading BERT tokenizer...')\n",
    "tokenizer = BertTokenizer.from_pretrained('bert-base-uncased', do_lower_case=True)"
   ]
  },
  {
   "cell_type": "code",
   "execution_count": 7,
   "id": "1d84c8f0",
   "metadata": {
    "execution": {
     "iopub.execute_input": "2022-05-08T11:29:27.954446Z",
     "iopub.status.busy": "2022-05-08T11:29:27.954155Z",
     "iopub.status.idle": "2022-05-08T11:29:27.969505Z",
     "shell.execute_reply": "2022-05-08T11:29:27.968860Z"
    },
    "papermill": {
     "duration": 0.057122,
     "end_time": "2022-05-08T11:29:27.971269",
     "exception": false,
     "start_time": "2022-05-08T11:29:27.914147",
     "status": "completed"
    },
    "tags": []
   },
   "outputs": [
    {
     "data": {
      "text/html": [
       "<div>\n",
       "<style scoped>\n",
       "    .dataframe tbody tr th:only-of-type {\n",
       "        vertical-align: middle;\n",
       "    }\n",
       "\n",
       "    .dataframe tbody tr th {\n",
       "        vertical-align: top;\n",
       "    }\n",
       "\n",
       "    .dataframe thead th {\n",
       "        text-align: right;\n",
       "    }\n",
       "</style>\n",
       "<table border=\"1\" class=\"dataframe\">\n",
       "  <thead>\n",
       "    <tr style=\"text-align: right;\">\n",
       "      <th></th>\n",
       "      <th>id</th>\n",
       "      <th>sentiment</th>\n",
       "      <th>review</th>\n",
       "    </tr>\n",
       "  </thead>\n",
       "  <tbody>\n",
       "    <tr>\n",
       "      <th>0</th>\n",
       "      <td>5814_8</td>\n",
       "      <td>1</td>\n",
       "      <td>With all this stuff going down at the moment w...</td>\n",
       "    </tr>\n",
       "    <tr>\n",
       "      <th>1</th>\n",
       "      <td>2381_9</td>\n",
       "      <td>1</td>\n",
       "      <td>\\The Classic War of the Worlds\\\" by Timothy Hi...</td>\n",
       "    </tr>\n",
       "    <tr>\n",
       "      <th>2</th>\n",
       "      <td>7759_3</td>\n",
       "      <td>0</td>\n",
       "      <td>The film starts with a manager (Nicholas Bell)...</td>\n",
       "    </tr>\n",
       "    <tr>\n",
       "      <th>3</th>\n",
       "      <td>3630_4</td>\n",
       "      <td>0</td>\n",
       "      <td>It must be assumed that those who praised this...</td>\n",
       "    </tr>\n",
       "    <tr>\n",
       "      <th>4</th>\n",
       "      <td>9495_8</td>\n",
       "      <td>1</td>\n",
       "      <td>Superbly trashy and wondrously unpretentious 8...</td>\n",
       "    </tr>\n",
       "  </tbody>\n",
       "</table>\n",
       "</div>"
      ],
      "text/plain": [
       "       id  sentiment                                             review\n",
       "0  5814_8          1  With all this stuff going down at the moment w...\n",
       "1  2381_9          1  \\The Classic War of the Worlds\\\" by Timothy Hi...\n",
       "2  7759_3          0  The film starts with a manager (Nicholas Bell)...\n",
       "3  3630_4          0  It must be assumed that those who praised this...\n",
       "4  9495_8          1  Superbly trashy and wondrously unpretentious 8..."
      ]
     },
     "execution_count": 7,
     "metadata": {},
     "output_type": "execute_result"
    }
   ],
   "source": [
    "train.head()"
   ]
  },
  {
   "cell_type": "code",
   "execution_count": 8,
   "id": "ec994949",
   "metadata": {
    "execution": {
     "iopub.execute_input": "2022-05-08T11:29:28.049220Z",
     "iopub.status.busy": "2022-05-08T11:29:28.048781Z",
     "iopub.status.idle": "2022-05-08T11:29:46.193005Z",
     "shell.execute_reply": "2022-05-08T11:29:46.192220Z"
    },
    "papermill": {
     "duration": 18.186048,
     "end_time": "2022-05-08T11:29:46.195311",
     "exception": false,
     "start_time": "2022-05-08T11:29:28.009263",
     "status": "completed"
    },
    "tags": []
   },
   "outputs": [
    {
     "name": "stdout",
     "output_type": "stream",
     "text": [
      "CPU times: user 17.2 s, sys: 209 ms, total: 17.4 s\n",
      "Wall time: 18.1 s\n"
     ]
    }
   ],
   "source": [
    "%%time\n",
    "import warnings\n",
    "warnings.filterwarnings('ignore')\n",
    "import numpy as np\n",
    "import pandas as pd\n",
    "import re\n",
    "import os\n",
    "import html\n",
    "import matplotlib.pyplot as plt\n",
    "import seaborn as sb\n",
    "\n",
    "from nltk import word_tokenize\n",
    "from nltk.corpus import stopwords\n",
    "from nltk.stem import WordNetLemmatizer\n",
    "from gensim.models import Word2Vec, Phrases\n",
    "from sklearn.model_selection import train_test_split\n",
    "from sklearn.model_selection import train_test_split\n",
    "\n",
    "\n",
    "# 文本清洗\n",
    "train.review=html.unescape(train.review)\n",
    "test.review=html.unescape(test.review)\n",
    "# 去除网页标记\n",
    "\n",
    "train.review=train.review.str.replace('http\\S+|www.\\S+', '', case=False).str.replace(r\"\\&\\#[0-9]+\\;\",\"\", regex=True) \\\n",
    "            .str.replace(r\"[^\\w\\s]\",\"\").str.replace(\"\\d+\",\"\").str.replace(r\"[\\s]+\",\" \",regex=True) \\\n",
    "            .str.replace(\"\\n\",\" \").replace(\"\\r\",\"\").str.replace(\"_\",\" \").str.lower()\n",
    "test.review=test.review.str.replace('http\\S+|www.\\S+', '', case=False).str.replace(r\"\\&\\#[0-9]+\\;\",\"\", regex=True) \\\n",
    "            .str.replace(r\"[^\\w\\s]\",\"\").str.replace(\"\\d+\",\"\").str.replace(r\"[\\s]+\",\" \",regex=True) \\\n",
    "            .str.replace(\"\\n\",\" \").replace(\"\\r\",\"\").str.replace(\"_\",\" \").str.lower()\n",
    "\n",
    "def remove_emoji(text):\n",
    "    '''使用正则表达式去除网页标记'''\n",
    "    emoji_pattern = re.compile(\"[\"\n",
    "                           u\"\\U0001F600-\\U0001F64F\" \n",
    "                           u\"\\U0001F300-\\U0001F5FF\" \n",
    "                           u\"\\U0001F680-\\U0001F6FF\"  \n",
    "                           u\"\\U0001F1E0-\\U0001F1FF\"  \n",
    "                           u\"\\U00002702-\\U000027B0\"\n",
    "                           u\"\\U000024C2-\\U0001F251\"\n",
    "                           \"]+\", flags=re.UNICODE)\n",
    "    return emoji_pattern.sub(r'', text)\n",
    "\n",
    "train['review']=train['review'].apply(lambda x: remove_emoji(x))\n",
    "test['review']=test['review'].apply(lambda x: remove_emoji(x))\n",
    "\n",
    "from unicodedata import normalize\n",
    "\n",
    "remove_accent = lambda text: normalize(\"NFKD\", text).encode(\"ascii\", \"ignore\").decode(\"utf-8\", \"ignore\") # 字符串标准化\n",
    "\n",
    "train[\"review\"] = train[\"review\"].apply(remove_accent)\n",
    "test[\"review\"] = test[\"review\"].apply(remove_accent)"
   ]
  },
  {
   "cell_type": "code",
   "execution_count": 9,
   "id": "c0db1da6",
   "metadata": {
    "execution": {
     "iopub.execute_input": "2022-05-08T11:29:46.287273Z",
     "iopub.status.busy": "2022-05-08T11:29:46.286820Z",
     "iopub.status.idle": "2022-05-08T11:29:46.290759Z",
     "shell.execute_reply": "2022-05-08T11:29:46.290092Z"
    },
    "id": "FtYoquMdGsUe",
    "outputId": "f09fd945-b11d-42de-ff3a-ec8962dbe09c",
    "papermill": {
     "duration": 0.063388,
     "end_time": "2022-05-08T11:29:46.297322",
     "exception": false,
     "start_time": "2022-05-08T11:29:46.233934",
     "status": "completed"
    },
    "tags": []
   },
   "outputs": [],
   "source": [
    "sentences=train['review']"
   ]
  },
  {
   "cell_type": "code",
   "execution_count": 10,
   "id": "a1926eba",
   "metadata": {
    "execution": {
     "iopub.execute_input": "2022-05-08T11:29:46.430826Z",
     "iopub.status.busy": "2022-05-08T11:29:46.430484Z",
     "iopub.status.idle": "2022-05-08T11:29:46.435359Z",
     "shell.execute_reply": "2022-05-08T11:29:46.434495Z"
    },
    "id": "FtYoquMdGsUe",
    "outputId": "f09fd945-b11d-42de-ff3a-ec8962dbe09c",
    "papermill": {
     "duration": 0.078585,
     "end_time": "2022-05-08T11:29:46.445749",
     "exception": false,
     "start_time": "2022-05-08T11:29:46.367164",
     "status": "completed"
    },
    "tags": []
   },
   "outputs": [],
   "source": [
    "labels=train['sentiment']"
   ]
  },
  {
   "cell_type": "code",
   "execution_count": 11,
   "id": "6c361aad",
   "metadata": {
    "execution": {
     "iopub.execute_input": "2022-05-08T11:29:46.573315Z",
     "iopub.status.busy": "2022-05-08T11:29:46.572988Z",
     "iopub.status.idle": "2022-05-08T11:29:46.577634Z",
     "shell.execute_reply": "2022-05-08T11:29:46.576772Z"
    },
    "id": "FtYoquMdGsUe",
    "outputId": "f09fd945-b11d-42de-ff3a-ec8962dbe09c",
    "papermill": {
     "duration": 0.069903,
     "end_time": "2022-05-08T11:29:46.580875",
     "exception": false,
     "start_time": "2022-05-08T11:29:46.510972",
     "status": "completed"
    },
    "tags": []
   },
   "outputs": [],
   "source": [
    "test_sentences=train['review']"
   ]
  },
  {
   "cell_type": "code",
   "execution_count": 12,
   "id": "d98bb534",
   "metadata": {
    "execution": {
     "iopub.execute_input": "2022-05-08T11:29:46.702387Z",
     "iopub.status.busy": "2022-05-08T11:29:46.702097Z",
     "iopub.status.idle": "2022-05-08T11:29:46.705859Z",
     "shell.execute_reply": "2022-05-08T11:29:46.705224Z"
    },
    "id": "FtYoquMdGsUe",
    "outputId": "f09fd945-b11d-42de-ff3a-ec8962dbe09c",
    "papermill": {
     "duration": 0.068725,
     "end_time": "2022-05-08T11:29:46.709589",
     "exception": false,
     "start_time": "2022-05-08T11:29:46.640864",
     "status": "completed"
    },
    "tags": []
   },
   "outputs": [],
   "source": [
    "test_labels=train['sentiment']"
   ]
  },
  {
   "cell_type": "code",
   "execution_count": 13,
   "id": "89e1fa83",
   "metadata": {
    "execution": {
     "iopub.execute_input": "2022-05-08T11:29:46.843328Z",
     "iopub.status.busy": "2022-05-08T11:29:46.843017Z",
     "iopub.status.idle": "2022-05-08T11:29:46.848749Z",
     "shell.execute_reply": "2022-05-08T11:29:46.848015Z"
    },
    "id": "CABC4yNjHCLP",
    "outputId": "0dfc7d23-2cdb-483d-a982-6a8e617c24c7",
    "papermill": {
     "duration": 0.084647,
     "end_time": "2022-05-08T11:29:46.855513",
     "exception": false,
     "start_time": "2022-05-08T11:29:46.770866",
     "status": "completed"
    },
    "tags": []
   },
   "outputs": [
    {
     "name": "stdout",
     "output_type": "stream",
     "text": [
      " Original:  with all this stuff going down at the moment with mj ive started listening to his music watching the odd documentary here and there watched the wiz and watched moonwalker again maybe i just want to get a certain insight into this guy who i thought was really cool in the eighties just to maybe make up my mind whether he is guilty or innocent moonwalker is part biography part feature film which i remember going to see at the cinema when it was originally released some of it has subtle messages about mjs feeling towards the press and also the obvious message of drugs are bad mkaybr br visually impressive but of course this is all about michael jackson so unless you remotely like mj in anyway then you are going to hate this and find it boring some may call mj an egotist for consenting to the making of this movie but mj and most of his fans would say that he made it for the fans which if true is really nice of himbr br the actual feature film bit when it finally starts is only on for minutes or so excluding the smooth criminal sequence and joe pesci is convincing as a psychopathic all powerful drug lord why he wants mj dead so bad is beyond me because mj overheard his plans nah joe pescis character ranted that he wanted people to know it is he who is supplying drugs etc so i dunno maybe he just hates mjs musicbr br lots of cool things in this like mj turning into a car and a robot and the whole speed demon sequence also the director must have had the patience of a saint when it came to filming the kiddy bad sequence as usually directors hate working with one kid let alone a whole bunch of them performing a complex dance scenebr br bottom line this movie is for people who like mj on one level or another which i think is most people if not then stay away it does try and give off a wholesome message and ironically mjs bestest buddy in this movie is a girl michael jackson is truly one of the most talented people ever to grace this planet but is he guilty well with all the attention ive gave this subjecthmmm well i dont know because people can be different behind closed doors i know this for a fact he is either an extremely nice but stupid guy or one of the most sickest liars i hope he is not the latter\n"
     ]
    }
   ],
   "source": [
    "# Print the original sentence.\n",
    "print(' Original: ', sentences[0])"
   ]
  },
  {
   "cell_type": "code",
   "execution_count": 14,
   "id": "efe229f7",
   "metadata": {
    "execution": {
     "iopub.execute_input": "2022-05-08T11:29:46.986363Z",
     "iopub.status.busy": "2022-05-08T11:29:46.986083Z",
     "iopub.status.idle": "2022-05-08T11:29:47.013656Z",
     "shell.execute_reply": "2022-05-08T11:29:47.013025Z"
    },
    "id": "CABC4yNjHCLP",
    "outputId": "0dfc7d23-2cdb-483d-a982-6a8e617c24c7",
    "papermill": {
     "duration": 0.094695,
     "end_time": "2022-05-08T11:29:47.016354",
     "exception": false,
     "start_time": "2022-05-08T11:29:46.921659",
     "status": "completed"
    },
    "tags": []
   },
   "outputs": [
    {
     "name": "stdout",
     "output_type": "stream",
     "text": [
      "Tokenized:  ['with', 'all', 'this', 'stuff', 'going', 'down', 'at', 'the', 'moment', 'with', 'm', '##j', 'iv', '##e', 'started', 'listening', 'to', 'his', 'music', 'watching', 'the', 'odd', 'documentary', 'here', 'and', 'there', 'watched', 'the', 'wi', '##z', 'and', 'watched', 'moon', '##walker', 'again', 'maybe', 'i', 'just', 'want', 'to', 'get', 'a', 'certain', 'insight', 'into', 'this', 'guy', 'who', 'i', 'thought', 'was', 'really', 'cool', 'in', 'the', 'eighties', 'just', 'to', 'maybe', 'make', 'up', 'my', 'mind', 'whether', 'he', 'is', 'guilty', 'or', 'innocent', 'moon', '##walker', 'is', 'part', 'biography', 'part', 'feature', 'film', 'which', 'i', 'remember', 'going', 'to', 'see', 'at', 'the', 'cinema', 'when', 'it', 'was', 'originally', 'released', 'some', 'of', 'it', 'has', 'subtle', 'messages', 'about', 'm', '##js', 'feeling', 'towards', 'the', 'press', 'and', 'also', 'the', 'obvious', 'message', 'of', 'drugs', 'are', 'bad', 'mk', '##ay', '##br', 'br', 'visually', 'impressive', 'but', 'of', 'course', 'this', 'is', 'all', 'about', 'michael', 'jackson', 'so', 'unless', 'you', 'remotely', 'like', 'm', '##j', 'in', 'anyway', 'then', 'you', 'are', 'going', 'to', 'hate', 'this', 'and', 'find', 'it', 'boring', 'some', 'may', 'call', 'm', '##j', 'an', 'ego', '##tist', 'for', 'consent', '##ing', 'to', 'the', 'making', 'of', 'this', 'movie', 'but', 'm', '##j', 'and', 'most', 'of', 'his', 'fans', 'would', 'say', 'that', 'he', 'made', 'it', 'for', 'the', 'fans', 'which', 'if', 'true', 'is', 'really', 'nice', 'of', 'him', '##br', 'br', 'the', 'actual', 'feature', 'film', 'bit', 'when', 'it', 'finally', 'starts', 'is', 'only', 'on', 'for', 'minutes', 'or', 'so', 'excluding', 'the', 'smooth', 'criminal', 'sequence', 'and', 'joe', 'pe', '##sc', '##i', 'is', 'convincing', 'as', 'a', 'psycho', '##pathic', 'all', 'powerful', 'drug', 'lord', 'why', 'he', 'wants', 'm', '##j', 'dead', 'so', 'bad', 'is', 'beyond', 'me', 'because', 'm', '##j', 'overheard', 'his', 'plans', 'nah', 'joe', 'pe', '##sc', '##is', 'character', 'ran', '##ted', 'that', 'he', 'wanted', 'people', 'to', 'know', 'it', 'is', 'he', 'who', 'is', 'supplying', 'drugs', 'etc', 'so', 'i', 'dunn', '##o', 'maybe', 'he', 'just', 'hates', 'm', '##js', 'music', '##br', 'br', 'lots', 'of', 'cool', 'things', 'in', 'this', 'like', 'm', '##j', 'turning', 'into', 'a', 'car', 'and', 'a', 'robot', 'and', 'the', 'whole', 'speed', 'demon', 'sequence', 'also', 'the', 'director', 'must', 'have', 'had', 'the', 'patience', 'of', 'a', 'saint', 'when', 'it', 'came', 'to', 'filming', 'the', 'kidd', '##y', 'bad', 'sequence', 'as', 'usually', 'directors', 'hate', 'working', 'with', 'one', 'kid', 'let', 'alone', 'a', 'whole', 'bunch', 'of', 'them', 'performing', 'a', 'complex', 'dance', 'scene', '##br', 'br', 'bottom', 'line', 'this', 'movie', 'is', 'for', 'people', 'who', 'like', 'm', '##j', 'on', 'one', 'level', 'or', 'another', 'which', 'i', 'think', 'is', 'most', 'people', 'if', 'not', 'then', 'stay', 'away', 'it', 'does', 'try', 'and', 'give', 'off', 'a', 'whole', '##some', 'message', 'and', 'ironically', 'm', '##js', 'best', '##est', 'buddy', 'in', 'this', 'movie', 'is', 'a', 'girl', 'michael', 'jackson', 'is', 'truly', 'one', 'of', 'the', 'most', 'talented', 'people', 'ever', 'to', 'grace', 'this', 'planet', 'but', 'is', 'he', 'guilty', 'well', 'with', 'all', 'the', 'attention', 'iv', '##e', 'gave', 'this', 'subject', '##hm', '##mm', 'well', 'i', 'don', '##t', 'know', 'because', 'people', 'can', 'be', 'different', 'behind', 'closed', 'doors', 'i', 'know', 'this', 'for', 'a', 'fact', 'he', 'is', 'either', 'an', 'extremely', 'nice', 'but', 'stupid', 'guy', 'or', 'one', 'of', 'the', 'most', 'sick', '##est', 'liar', '##s', 'i', 'hope', 'he', 'is', 'not', 'the', 'latter']\n"
     ]
    }
   ],
   "source": [
    "# Print the sentence split into tokens.\n",
    "print('Tokenized: ', tokenizer.tokenize(sentences[0]))"
   ]
  },
  {
   "cell_type": "code",
   "execution_count": 15,
   "id": "668d75ca",
   "metadata": {
    "execution": {
     "iopub.execute_input": "2022-05-08T11:29:47.144374Z",
     "iopub.status.busy": "2022-05-08T11:29:47.144077Z",
     "iopub.status.idle": "2022-05-08T11:29:47.175417Z",
     "shell.execute_reply": "2022-05-08T11:29:47.174735Z"
    },
    "id": "CABC4yNjHCLP",
    "outputId": "0dfc7d23-2cdb-483d-a982-6a8e617c24c7",
    "papermill": {
     "duration": 0.097635,
     "end_time": "2022-05-08T11:29:47.177628",
     "exception": false,
     "start_time": "2022-05-08T11:29:47.079993",
     "status": "completed"
    },
    "tags": []
   },
   "outputs": [
    {
     "name": "stdout",
     "output_type": "stream",
     "text": [
      "Token IDs:  [2007, 2035, 2023, 4933, 2183, 2091, 2012, 1996, 2617, 2007, 1049, 3501, 4921, 2063, 2318, 5962, 2000, 2010, 2189, 3666, 1996, 5976, 4516, 2182, 1998, 2045, 3427, 1996, 15536, 2480, 1998, 3427, 4231, 26965, 2153, 2672, 1045, 2074, 2215, 2000, 2131, 1037, 3056, 12369, 2046, 2023, 3124, 2040, 1045, 2245, 2001, 2428, 4658, 1999, 1996, 27690, 2074, 2000, 2672, 2191, 2039, 2026, 2568, 3251, 2002, 2003, 5905, 2030, 7036, 4231, 26965, 2003, 2112, 8308, 2112, 3444, 2143, 2029, 1045, 3342, 2183, 2000, 2156, 2012, 1996, 5988, 2043, 2009, 2001, 2761, 2207, 2070, 1997, 2009, 2038, 11259, 7696, 2055, 1049, 22578, 3110, 2875, 1996, 2811, 1998, 2036, 1996, 5793, 4471, 1997, 5850, 2024, 2919, 12395, 4710, 19892, 7987, 17453, 8052, 2021, 1997, 2607, 2023, 2003, 2035, 2055, 2745, 4027, 2061, 4983, 2017, 19512, 2066, 1049, 3501, 1999, 4312, 2059, 2017, 2024, 2183, 2000, 5223, 2023, 1998, 2424, 2009, 11771, 2070, 2089, 2655, 1049, 3501, 2019, 13059, 16774, 2005, 9619, 2075, 2000, 1996, 2437, 1997, 2023, 3185, 2021, 1049, 3501, 1998, 2087, 1997, 2010, 4599, 2052, 2360, 2008, 2002, 2081, 2009, 2005, 1996, 4599, 2029, 2065, 2995, 2003, 2428, 3835, 1997, 2032, 19892, 7987, 1996, 5025, 3444, 2143, 2978, 2043, 2009, 2633, 4627, 2003, 2069, 2006, 2005, 2781, 2030, 2061, 13343, 1996, 5744, 4735, 5537, 1998, 3533, 21877, 11020, 2072, 2003, 13359, 2004, 1037, 18224, 25940, 2035, 3928, 4319, 2935, 2339, 2002, 4122, 1049, 3501, 2757, 2061, 2919, 2003, 3458, 2033, 2138, 1049, 3501, 20443, 2010, 3488, 20976, 3533, 21877, 11020, 2483, 2839, 2743, 3064, 2008, 2002, 2359, 2111, 2000, 2113, 2009, 2003, 2002, 2040, 2003, 17731, 5850, 4385, 2061, 1045, 14145, 2080, 2672, 2002, 2074, 16424, 1049, 22578, 2189, 19892, 7987, 7167, 1997, 4658, 2477, 1999, 2023, 2066, 1049, 3501, 3810, 2046, 1037, 2482, 1998, 1037, 8957, 1998, 1996, 2878, 3177, 5698, 5537, 2036, 1996, 2472, 2442, 2031, 2018, 1996, 11752, 1997, 1037, 3002, 2043, 2009, 2234, 2000, 7467, 1996, 25358, 2100, 2919, 5537, 2004, 2788, 5501, 5223, 2551, 2007, 2028, 4845, 2292, 2894, 1037, 2878, 9129, 1997, 2068, 4488, 1037, 3375, 3153, 3496, 19892, 7987, 3953, 2240, 2023, 3185, 2003, 2005, 2111, 2040, 2066, 1049, 3501, 2006, 2028, 2504, 2030, 2178, 2029, 1045, 2228, 2003, 2087, 2111, 2065, 2025, 2059, 2994, 2185, 2009, 2515, 3046, 1998, 2507, 2125, 1037, 2878, 14045, 4471, 1998, 18527, 1049, 22578, 2190, 4355, 8937, 1999, 2023, 3185, 2003, 1037, 2611, 2745, 4027, 2003, 5621, 2028, 1997, 1996, 2087, 10904, 2111, 2412, 2000, 4519, 2023, 4774, 2021, 2003, 2002, 5905, 2092, 2007, 2035, 1996, 3086, 4921, 2063, 2435, 2023, 3395, 14227, 7382, 2092, 1045, 2123, 2102, 2113, 2138, 2111, 2064, 2022, 2367, 2369, 2701, 4303, 1045, 2113, 2023, 2005, 1037, 2755, 2002, 2003, 2593, 2019, 5186, 3835, 2021, 5236, 3124, 2030, 2028, 1997, 1996, 2087, 5305, 4355, 16374, 2015, 1045, 3246, 2002, 2003, 2025, 1996, 3732]\n"
     ]
    }
   ],
   "source": [
    "# Print the sentence mapped to token ids.\n",
    "print('Token IDs: ', tokenizer.convert_tokens_to_ids(tokenizer.tokenize(sentences[0])))"
   ]
  },
  {
   "cell_type": "code",
   "execution_count": 16,
   "id": "eb2aa231",
   "metadata": {
    "execution": {
     "iopub.execute_input": "2022-05-08T11:29:47.311657Z",
     "iopub.status.busy": "2022-05-08T11:29:47.311407Z",
     "iopub.status.idle": "2022-05-08T11:35:55.160649Z",
     "shell.execute_reply": "2022-05-08T11:35:55.159875Z"
    },
    "id": "jY4RLpctHGM1",
    "outputId": "46a02d53-d842-41fe-e613-b04bd688410e",
    "papermill": {
     "duration": 367.954046,
     "end_time": "2022-05-08T11:35:55.200046",
     "exception": false,
     "start_time": "2022-05-08T11:29:47.246000",
     "status": "completed"
    },
    "tags": []
   },
   "outputs": [
    {
     "name": "stderr",
     "output_type": "stream",
     "text": [
      "Truncation was not explicitly activated but `max_length` is provided a specific value, please use `truncation=True` to explicitly truncate examples to max length. Defaulting to 'longest_first' truncation strategy. If you encode pairs of sequences (GLUE-style) with the tokenizer you can select this strategy more precisely by providing a specific strategy to `truncation`.\n"
     ]
    },
    {
     "name": "stdout",
     "output_type": "stream",
     "text": [
      "CPU times: user 6min 6s, sys: 378 ms, total: 6min 6s\n",
      "Wall time: 6min 7s\n"
     ]
    }
   ],
   "source": [
    "%%time\n",
    "MAX_LEN=128\n",
    "input_ids = train['review'].apply(lambda x: tokenizer.encode(x, add_special_tokens =True,max_length=MAX_LEN ))\n",
    "test_input_ids = test['review'].apply(lambda x: tokenizer.encode(x, add_special_tokens =True,max_length=MAX_LEN ))\n",
    "# input_ids = [tokenizer.encode(sent,add_special_tokens=True,max_length=MAX_LEN) for sent in sentences]\n",
    "# test_input_ids=[tokenizer.encode(sent,add_special_tokens=True,max_length=MAX_LEN) for sent in test_sentences]"
   ]
  },
  {
   "cell_type": "code",
   "execution_count": 17,
   "id": "600d2a82",
   "metadata": {
    "execution": {
     "iopub.execute_input": "2022-05-08T11:35:55.280886Z",
     "iopub.status.busy": "2022-05-08T11:35:55.280660Z",
     "iopub.status.idle": "2022-05-08T11:35:56.611308Z",
     "shell.execute_reply": "2022-05-08T11:35:56.610519Z"
    },
    "id": "jY4RLpctHGM1",
    "outputId": "46a02d53-d842-41fe-e613-b04bd688410e",
    "papermill": {
     "duration": 1.373227,
     "end_time": "2022-05-08T11:35:56.613461",
     "exception": false,
     "start_time": "2022-05-08T11:35:55.240234",
     "status": "completed"
    },
    "tags": []
   },
   "outputs": [
    {
     "name": "stdout",
     "output_type": "stream",
     "text": [
      "\n",
      "Padding token: \"[PAD]\", ID: 0\n",
      "CPU times: user 1.2 s, sys: 98.2 ms, total: 1.3 s\n",
      "Wall time: 1.32 s\n"
     ]
    }
   ],
   "source": [
    "%%time\n",
    "from keras.preprocessing.sequence import pad_sequences\n",
    "print('\\nPadding token: \"{:}\", ID: {:}'.format(tokenizer.pad_token, tokenizer.pad_token_id))\n",
    "\n",
    "input_ids = pad_sequences(input_ids, \n",
    "                          maxlen=MAX_LEN, \n",
    "                          dtype=\"long\", \n",
    "                          value=0, \n",
    "                          truncating=\"post\", \n",
    "                          padding=\"post\")\n",
    "\n",
    "test_input_ids = pad_sequences(test_input_ids, \n",
    "                               maxlen=MAX_LEN, \n",
    "                               dtype=\"long\", \n",
    "                                  value=0, \n",
    "                               truncating=\"post\", \n",
    "                               padding=\"post\")"
   ]
  },
  {
   "cell_type": "code",
   "execution_count": 18,
   "id": "0cecb3c8",
   "metadata": {
    "execution": {
     "iopub.execute_input": "2022-05-08T11:35:56.696047Z",
     "iopub.status.busy": "2022-05-08T11:35:56.695355Z",
     "iopub.status.idle": "2022-05-08T11:36:00.909567Z",
     "shell.execute_reply": "2022-05-08T11:36:00.907848Z"
    },
    "id": "0Q4zYxf4HLZQ",
    "papermill": {
     "duration": 4.257303,
     "end_time": "2022-05-08T11:36:00.911407",
     "exception": false,
     "start_time": "2022-05-08T11:35:56.654104",
     "status": "completed"
    },
    "tags": []
   },
   "outputs": [
    {
     "name": "stdout",
     "output_type": "stream",
     "text": [
      "CPU times: user 4.21 s, sys: 1.01 ms, total: 4.21 s\n",
      "Wall time: 4.21 s\n"
     ]
    }
   ],
   "source": [
    "%%time \n",
    "# Create attention masks\n",
    "attention_masks = []\n",
    "\n",
    "# For each sentence...\n",
    "for sent in input_ids:\n",
    "    \n",
    "    # Create the attention mask.\n",
    "    #   - If a token ID is 0, then it's padding, set the mask to 0.\n",
    "    #   - If a token ID is > 0, then it's a real token, set the mask to 1.\n",
    "    att_mask = [int(token_id > 0) for token_id in sent]\n",
    "    \n",
    "    # Store the attention mask for this sentence.\n",
    "    attention_masks.append(att_mask)\n",
    "\n",
    "test_attention_masks = []\n",
    "\n",
    "# For each sentence...\n",
    "for sent in test_input_ids:\n",
    "    att_mask = [int(token_id > 0) for token_id in sent]\n",
    "    test_attention_masks.append(att_mask)\n"
   ]
  },
  {
   "cell_type": "code",
   "execution_count": 19,
   "id": "080f20b6",
   "metadata": {
    "execution": {
     "iopub.execute_input": "2022-05-08T11:36:00.994566Z",
     "iopub.status.busy": "2022-05-08T11:36:00.994346Z",
     "iopub.status.idle": "2022-05-08T11:36:01.020323Z",
     "shell.execute_reply": "2022-05-08T11:36:01.019586Z"
    },
    "id": "5F6KrV1vIaD0",
    "papermill": {
     "duration": 0.070062,
     "end_time": "2022-05-08T11:36:01.022272",
     "exception": false,
     "start_time": "2022-05-08T11:36:00.952210",
     "status": "completed"
    },
    "tags": []
   },
   "outputs": [],
   "source": [
    "from sklearn.model_selection import train_test_split\n",
    "\n",
    "# Use 90% for training and 10% for validation.\n",
    "train_inputs, validation_inputs, train_labels, validation_labels = train_test_split(input_ids, \n",
    "                                                                                     labels, \n",
    "                                                                                     random_state=42, \n",
    "                                                                                     test_size=0.2)\n",
    "# Do the same for the masks.\n",
    "train_masks, validation_masks, _, _ = train_test_split(attention_masks, \n",
    "                                                       labels,\n",
    "                                                       random_state=42, \n",
    "                                                       test_size=0.2)\n"
   ]
  },
  {
   "cell_type": "code",
   "execution_count": 20,
   "id": "5c3da826",
   "metadata": {
    "execution": {
     "iopub.execute_input": "2022-05-08T11:36:01.105720Z",
     "iopub.status.busy": "2022-05-08T11:36:01.105071Z",
     "iopub.status.idle": "2022-05-08T11:36:01.110629Z",
     "shell.execute_reply": "2022-05-08T11:36:01.109971Z"
    },
    "papermill": {
     "duration": 0.048714,
     "end_time": "2022-05-08T11:36:01.112365",
     "exception": false,
     "start_time": "2022-05-08T11:36:01.063651",
     "status": "completed"
    },
    "tags": []
   },
   "outputs": [
    {
     "data": {
      "text/plain": [
       "array([[  101,  2023,  3185, ...,  2338,  2310,   102],\n",
       "       [  101,  4830, 14227, ...,  1037,  3110,   102],\n",
       "       [  101,  2089,  1996, ...,  2003,  2130,   102],\n",
       "       ...,\n",
       "       [  101,  2003,  1999, ...,  8327,  1037,   102],\n",
       "       [  101,  1045,  2371, ...,     0,     0,     0],\n",
       "       [  101,  1996,  6808, ...,  2431,  2019,   102]])"
      ]
     },
     "execution_count": 20,
     "metadata": {},
     "output_type": "execute_result"
    }
   ],
   "source": [
    "train_inputs"
   ]
  },
  {
   "cell_type": "code",
   "execution_count": 21,
   "id": "a984a3c1",
   "metadata": {
    "execution": {
     "iopub.execute_input": "2022-05-08T11:36:01.196077Z",
     "iopub.status.busy": "2022-05-08T11:36:01.195513Z",
     "iopub.status.idle": "2022-05-08T11:36:01.204349Z",
     "shell.execute_reply": "2022-05-08T11:36:01.203707Z"
    },
    "id": "VF-KV7t7Iibb",
    "papermill": {
     "duration": 0.052128,
     "end_time": "2022-05-08T11:36:01.205950",
     "exception": false,
     "start_time": "2022-05-08T11:36:01.153822",
     "status": "completed"
    },
    "tags": []
   },
   "outputs": [],
   "source": [
    "import torch\n",
    "train_inputs = torch.LongTensor(train_inputs)\n",
    "\n",
    "validation_inputs = torch.LongTensor(validation_inputs)\n",
    "test_inputs=torch.LongTensor(test_input_ids)"
   ]
  },
  {
   "cell_type": "code",
   "execution_count": 22,
   "id": "c28b500c",
   "metadata": {
    "execution": {
     "iopub.execute_input": "2022-05-08T11:36:01.289084Z",
     "iopub.status.busy": "2022-05-08T11:36:01.288629Z",
     "iopub.status.idle": "2022-05-08T11:36:01.292307Z",
     "shell.execute_reply": "2022-05-08T11:36:01.291584Z"
    },
    "id": "VF-KV7t7Iibb",
    "papermill": {
     "duration": 0.047145,
     "end_time": "2022-05-08T11:36:01.293913",
     "exception": false,
     "start_time": "2022-05-08T11:36:01.246768",
     "status": "completed"
    },
    "tags": []
   },
   "outputs": [],
   "source": [
    "train_labels = torch.LongTensor(train_labels.values)"
   ]
  },
  {
   "cell_type": "code",
   "execution_count": 23,
   "id": "2a34ea28",
   "metadata": {
    "execution": {
     "iopub.execute_input": "2022-05-08T11:36:01.376932Z",
     "iopub.status.busy": "2022-05-08T11:36:01.376400Z",
     "iopub.status.idle": "2022-05-08T11:36:01.379772Z",
     "shell.execute_reply": "2022-05-08T11:36:01.379147Z"
    },
    "id": "VF-KV7t7Iibb",
    "papermill": {
     "duration": 0.046736,
     "end_time": "2022-05-08T11:36:01.381370",
     "exception": false,
     "start_time": "2022-05-08T11:36:01.334634",
     "status": "completed"
    },
    "tags": []
   },
   "outputs": [],
   "source": [
    "validation_labels = torch.LongTensor(validation_labels.values)"
   ]
  },
  {
   "cell_type": "code",
   "execution_count": 24,
   "id": "87fa2f49",
   "metadata": {
    "execution": {
     "iopub.execute_input": "2022-05-08T11:36:01.464558Z",
     "iopub.status.busy": "2022-05-08T11:36:01.463992Z",
     "iopub.status.idle": "2022-05-08T11:36:01.467551Z",
     "shell.execute_reply": "2022-05-08T11:36:01.466871Z"
    },
    "id": "VF-KV7t7Iibb",
    "papermill": {
     "duration": 0.047039,
     "end_time": "2022-05-08T11:36:01.469217",
     "exception": false,
     "start_time": "2022-05-08T11:36:01.422178",
     "status": "completed"
    },
    "tags": []
   },
   "outputs": [],
   "source": [
    "test_labels=torch.LongTensor(test_labels.values)"
   ]
  },
  {
   "cell_type": "code",
   "execution_count": 25,
   "id": "4bff1cd4",
   "metadata": {
    "execution": {
     "iopub.execute_input": "2022-05-08T11:36:01.552507Z",
     "iopub.status.busy": "2022-05-08T11:36:01.551963Z",
     "iopub.status.idle": "2022-05-08T11:36:01.588939Z",
     "shell.execute_reply": "2022-05-08T11:36:01.588259Z"
    },
    "papermill": {
     "duration": 0.080548,
     "end_time": "2022-05-08T11:36:01.590644",
     "exception": false,
     "start_time": "2022-05-08T11:36:01.510096",
     "status": "completed"
    },
    "tags": []
   },
   "outputs": [
    {
     "data": {
      "text/plain": [
       "tensor([1, 1, 0,  ..., 0, 0, 1])"
      ]
     },
     "execution_count": 25,
     "metadata": {},
     "output_type": "execute_result"
    }
   ],
   "source": [
    "test_labels"
   ]
  },
  {
   "cell_type": "code",
   "execution_count": 26,
   "id": "6676f3d3",
   "metadata": {
    "execution": {
     "iopub.execute_input": "2022-05-08T11:36:01.674647Z",
     "iopub.status.busy": "2022-05-08T11:36:01.674128Z",
     "iopub.status.idle": "2022-05-08T11:36:01.969747Z",
     "shell.execute_reply": "2022-05-08T11:36:01.968990Z"
    },
    "id": "VF-KV7t7Iibb",
    "papermill": {
     "duration": 0.33993,
     "end_time": "2022-05-08T11:36:01.971705",
     "exception": false,
     "start_time": "2022-05-08T11:36:01.631775",
     "status": "completed"
    },
    "tags": []
   },
   "outputs": [],
   "source": [
    "train_masks = torch.Tensor(train_masks)\n",
    "validation_masks = torch.Tensor(validation_masks)\n",
    "test_masks=torch.Tensor(test_attention_masks)"
   ]
  },
  {
   "cell_type": "code",
   "execution_count": 27,
   "id": "e5335ecb",
   "metadata": {
    "execution": {
     "iopub.execute_input": "2022-05-08T11:36:02.058083Z",
     "iopub.status.busy": "2022-05-08T11:36:02.057561Z",
     "iopub.status.idle": "2022-05-08T11:36:02.067767Z",
     "shell.execute_reply": "2022-05-08T11:36:02.067099Z"
    },
    "papermill": {
     "duration": 0.054677,
     "end_time": "2022-05-08T11:36:02.069493",
     "exception": false,
     "start_time": "2022-05-08T11:36:02.014816",
     "status": "completed"
    },
    "tags": []
   },
   "outputs": [
    {
     "data": {
      "text/plain": [
       "tensor([[  101,  2023,  3185,  ...,  2338,  2310,   102],\n",
       "        [  101,  4830, 14227,  ...,  1037,  3110,   102],\n",
       "        [  101,  2089,  1996,  ...,  2003,  2130,   102],\n",
       "        ...,\n",
       "        [  101,  2003,  1999,  ...,  8327,  1037,   102],\n",
       "        [  101,  1045,  2371,  ...,     0,     0,     0],\n",
       "        [  101,  1996,  6808,  ...,  2431,  2019,   102]])"
      ]
     },
     "execution_count": 27,
     "metadata": {},
     "output_type": "execute_result"
    }
   ],
   "source": [
    "train_inputs"
   ]
  },
  {
   "cell_type": "code",
   "execution_count": 28,
   "id": "3d9e632d",
   "metadata": {
    "execution": {
     "iopub.execute_input": "2022-05-08T11:36:02.156721Z",
     "iopub.status.busy": "2022-05-08T11:36:02.156146Z",
     "iopub.status.idle": "2022-05-08T11:36:02.202148Z",
     "shell.execute_reply": "2022-05-08T11:36:02.201453Z"
    },
    "papermill": {
     "duration": 0.092946,
     "end_time": "2022-05-08T11:36:02.203919",
     "exception": false,
     "start_time": "2022-05-08T11:36:02.110973",
     "status": "completed"
    },
    "tags": []
   },
   "outputs": [
    {
     "data": {
      "text/plain": [
       "tensor([[1., 1., 1.,  ..., 1., 1., 1.],\n",
       "        [1., 1., 1.,  ..., 1., 1., 1.],\n",
       "        [1., 1., 1.,  ..., 1., 1., 1.],\n",
       "        ...,\n",
       "        [1., 1., 1.,  ..., 1., 1., 1.],\n",
       "        [1., 1., 1.,  ..., 0., 0., 0.],\n",
       "        [1., 1., 1.,  ..., 1., 1., 1.]])"
      ]
     },
     "execution_count": 28,
     "metadata": {},
     "output_type": "execute_result"
    }
   ],
   "source": [
    "train_masks"
   ]
  },
  {
   "cell_type": "code",
   "execution_count": 29,
   "id": "007e9cd8",
   "metadata": {
    "execution": {
     "iopub.execute_input": "2022-05-08T11:36:02.290907Z",
     "iopub.status.busy": "2022-05-08T11:36:02.290409Z",
     "iopub.status.idle": "2022-05-08T11:36:02.296094Z",
     "shell.execute_reply": "2022-05-08T11:36:02.295372Z"
    },
    "papermill": {
     "duration": 0.050787,
     "end_time": "2022-05-08T11:36:02.297744",
     "exception": false,
     "start_time": "2022-05-08T11:36:02.246957",
     "status": "completed"
    },
    "tags": []
   },
   "outputs": [
    {
     "data": {
      "text/plain": [
       "tensor([0, 0, 0,  ..., 1, 1, 0])"
      ]
     },
     "execution_count": 29,
     "metadata": {},
     "output_type": "execute_result"
    }
   ],
   "source": [
    "train_labels"
   ]
  },
  {
   "cell_type": "code",
   "execution_count": 30,
   "id": "ea483e46",
   "metadata": {
    "execution": {
     "iopub.execute_input": "2022-05-08T11:36:02.384866Z",
     "iopub.status.busy": "2022-05-08T11:36:02.384243Z",
     "iopub.status.idle": "2022-05-08T11:36:02.392245Z",
     "shell.execute_reply": "2022-05-08T11:36:02.391589Z"
    },
    "id": "VF-KV7t7Iibb",
    "papermill": {
     "duration": 0.053547,
     "end_time": "2022-05-08T11:36:02.394098",
     "exception": false,
     "start_time": "2022-05-08T11:36:02.340551",
     "status": "completed"
    },
    "tags": []
   },
   "outputs": [],
   "source": [
    "from torch.utils.data import TensorDataset, DataLoader, RandomSampler, SequentialSampler\n",
    "\n",
    "# The DataLoader needs to know our batch size for training, so we specify it \n",
    "# here.\n",
    "# For fine-tuning BERT on a specific task, the authors recommend a batch size of\n",
    "# 16 or 32.\n",
    "\n",
    "batch_size = 16\n",
    "\n",
    "# Create the DataLoader for our training set.\n",
    "train_data = TensorDataset(train_inputs, train_masks, train_labels)\n",
    "train_sampler = RandomSampler(train_data)\n",
    "train_dataloader = DataLoader(train_data, sampler=train_sampler, batch_size=batch_size)\n",
    "\n",
    "# Create the DataLoader for our validation set.\n",
    "validation_data = TensorDataset(validation_inputs, validation_masks, validation_labels)\n",
    "validation_sampler = SequentialSampler(validation_data)\n",
    "validation_dataloader = DataLoader(validation_data, sampler=validation_sampler, batch_size=batch_size)\n",
    "\n",
    "# Create the DataLoader for our test set.\n",
    "test_data = TensorDataset(test_inputs, test_masks, test_labels)\n",
    "test_sampler = SequentialSampler(test_data)\n",
    "test_dataloader = DataLoader(test_data, sampler=test_sampler, batch_size=batch_size)"
   ]
  },
  {
   "cell_type": "code",
   "execution_count": 31,
   "id": "7a182948",
   "metadata": {
    "execution": {
     "iopub.execute_input": "2022-05-08T11:36:02.480079Z",
     "iopub.status.busy": "2022-05-08T11:36:02.479774Z",
     "iopub.status.idle": "2022-05-08T11:36:29.637672Z",
     "shell.execute_reply": "2022-05-08T11:36:29.636992Z"
    },
    "id": "I1gA6QqbImId",
    "outputId": "89e10596-da72-481b-f1cc-da88d3e3fd54",
    "papermill": {
     "duration": 27.203678,
     "end_time": "2022-05-08T11:36:29.639882",
     "exception": false,
     "start_time": "2022-05-08T11:36:02.436204",
     "status": "completed"
    },
    "tags": []
   },
   "outputs": [
    {
     "data": {
      "application/vnd.jupyter.widget-view+json": {
       "model_id": "e49c98952fcc4336b7773ad7110d1e71",
       "version_major": 2,
       "version_minor": 0
      },
      "text/plain": [
       "Downloading:   0%|          | 0.00/420M [00:00<?, ?B/s]"
      ]
     },
     "metadata": {},
     "output_type": "display_data"
    },
    {
     "name": "stderr",
     "output_type": "stream",
     "text": [
      "Some weights of the model checkpoint at bert-base-uncased were not used when initializing BertForSequenceClassification: ['cls.seq_relationship.bias', 'cls.predictions.transform.dense.bias', 'cls.predictions.transform.LayerNorm.weight', 'cls.predictions.transform.dense.weight', 'cls.predictions.transform.LayerNorm.bias', 'cls.predictions.decoder.weight', 'cls.predictions.bias', 'cls.seq_relationship.weight']\n",
      "- This IS expected if you are initializing BertForSequenceClassification from the checkpoint of a model trained on another task or with another architecture (e.g. initializing a BertForSequenceClassification model from a BertForPreTraining model).\n",
      "- This IS NOT expected if you are initializing BertForSequenceClassification from the checkpoint of a model that you expect to be exactly identical (initializing a BertForSequenceClassification model from a BertForSequenceClassification model).\n",
      "Some weights of BertForSequenceClassification were not initialized from the model checkpoint at bert-base-uncased and are newly initialized: ['classifier.bias', 'classifier.weight']\n",
      "You should probably TRAIN this model on a down-stream task to be able to use it for predictions and inference.\n"
     ]
    },
    {
     "data": {
      "text/plain": [
       "BertForSequenceClassification(\n",
       "  (bert): BertModel(\n",
       "    (embeddings): BertEmbeddings(\n",
       "      (word_embeddings): Embedding(30522, 768, padding_idx=0)\n",
       "      (position_embeddings): Embedding(512, 768)\n",
       "      (token_type_embeddings): Embedding(2, 768)\n",
       "      (LayerNorm): LayerNorm((768,), eps=1e-12, elementwise_affine=True)\n",
       "      (dropout): Dropout(p=0.1, inplace=False)\n",
       "    )\n",
       "    (encoder): BertEncoder(\n",
       "      (layer): ModuleList(\n",
       "        (0): BertLayer(\n",
       "          (attention): BertAttention(\n",
       "            (self): BertSelfAttention(\n",
       "              (query): Linear(in_features=768, out_features=768, bias=True)\n",
       "              (key): Linear(in_features=768, out_features=768, bias=True)\n",
       "              (value): Linear(in_features=768, out_features=768, bias=True)\n",
       "              (dropout): Dropout(p=0.1, inplace=False)\n",
       "            )\n",
       "            (output): BertSelfOutput(\n",
       "              (dense): Linear(in_features=768, out_features=768, bias=True)\n",
       "              (LayerNorm): LayerNorm((768,), eps=1e-12, elementwise_affine=True)\n",
       "              (dropout): Dropout(p=0.1, inplace=False)\n",
       "            )\n",
       "          )\n",
       "          (intermediate): BertIntermediate(\n",
       "            (dense): Linear(in_features=768, out_features=3072, bias=True)\n",
       "            (intermediate_act_fn): GELUActivation()\n",
       "          )\n",
       "          (output): BertOutput(\n",
       "            (dense): Linear(in_features=3072, out_features=768, bias=True)\n",
       "            (LayerNorm): LayerNorm((768,), eps=1e-12, elementwise_affine=True)\n",
       "            (dropout): Dropout(p=0.1, inplace=False)\n",
       "          )\n",
       "        )\n",
       "        (1): BertLayer(\n",
       "          (attention): BertAttention(\n",
       "            (self): BertSelfAttention(\n",
       "              (query): Linear(in_features=768, out_features=768, bias=True)\n",
       "              (key): Linear(in_features=768, out_features=768, bias=True)\n",
       "              (value): Linear(in_features=768, out_features=768, bias=True)\n",
       "              (dropout): Dropout(p=0.1, inplace=False)\n",
       "            )\n",
       "            (output): BertSelfOutput(\n",
       "              (dense): Linear(in_features=768, out_features=768, bias=True)\n",
       "              (LayerNorm): LayerNorm((768,), eps=1e-12, elementwise_affine=True)\n",
       "              (dropout): Dropout(p=0.1, inplace=False)\n",
       "            )\n",
       "          )\n",
       "          (intermediate): BertIntermediate(\n",
       "            (dense): Linear(in_features=768, out_features=3072, bias=True)\n",
       "            (intermediate_act_fn): GELUActivation()\n",
       "          )\n",
       "          (output): BertOutput(\n",
       "            (dense): Linear(in_features=3072, out_features=768, bias=True)\n",
       "            (LayerNorm): LayerNorm((768,), eps=1e-12, elementwise_affine=True)\n",
       "            (dropout): Dropout(p=0.1, inplace=False)\n",
       "          )\n",
       "        )\n",
       "        (2): BertLayer(\n",
       "          (attention): BertAttention(\n",
       "            (self): BertSelfAttention(\n",
       "              (query): Linear(in_features=768, out_features=768, bias=True)\n",
       "              (key): Linear(in_features=768, out_features=768, bias=True)\n",
       "              (value): Linear(in_features=768, out_features=768, bias=True)\n",
       "              (dropout): Dropout(p=0.1, inplace=False)\n",
       "            )\n",
       "            (output): BertSelfOutput(\n",
       "              (dense): Linear(in_features=768, out_features=768, bias=True)\n",
       "              (LayerNorm): LayerNorm((768,), eps=1e-12, elementwise_affine=True)\n",
       "              (dropout): Dropout(p=0.1, inplace=False)\n",
       "            )\n",
       "          )\n",
       "          (intermediate): BertIntermediate(\n",
       "            (dense): Linear(in_features=768, out_features=3072, bias=True)\n",
       "            (intermediate_act_fn): GELUActivation()\n",
       "          )\n",
       "          (output): BertOutput(\n",
       "            (dense): Linear(in_features=3072, out_features=768, bias=True)\n",
       "            (LayerNorm): LayerNorm((768,), eps=1e-12, elementwise_affine=True)\n",
       "            (dropout): Dropout(p=0.1, inplace=False)\n",
       "          )\n",
       "        )\n",
       "        (3): BertLayer(\n",
       "          (attention): BertAttention(\n",
       "            (self): BertSelfAttention(\n",
       "              (query): Linear(in_features=768, out_features=768, bias=True)\n",
       "              (key): Linear(in_features=768, out_features=768, bias=True)\n",
       "              (value): Linear(in_features=768, out_features=768, bias=True)\n",
       "              (dropout): Dropout(p=0.1, inplace=False)\n",
       "            )\n",
       "            (output): BertSelfOutput(\n",
       "              (dense): Linear(in_features=768, out_features=768, bias=True)\n",
       "              (LayerNorm): LayerNorm((768,), eps=1e-12, elementwise_affine=True)\n",
       "              (dropout): Dropout(p=0.1, inplace=False)\n",
       "            )\n",
       "          )\n",
       "          (intermediate): BertIntermediate(\n",
       "            (dense): Linear(in_features=768, out_features=3072, bias=True)\n",
       "            (intermediate_act_fn): GELUActivation()\n",
       "          )\n",
       "          (output): BertOutput(\n",
       "            (dense): Linear(in_features=3072, out_features=768, bias=True)\n",
       "            (LayerNorm): LayerNorm((768,), eps=1e-12, elementwise_affine=True)\n",
       "            (dropout): Dropout(p=0.1, inplace=False)\n",
       "          )\n",
       "        )\n",
       "        (4): BertLayer(\n",
       "          (attention): BertAttention(\n",
       "            (self): BertSelfAttention(\n",
       "              (query): Linear(in_features=768, out_features=768, bias=True)\n",
       "              (key): Linear(in_features=768, out_features=768, bias=True)\n",
       "              (value): Linear(in_features=768, out_features=768, bias=True)\n",
       "              (dropout): Dropout(p=0.1, inplace=False)\n",
       "            )\n",
       "            (output): BertSelfOutput(\n",
       "              (dense): Linear(in_features=768, out_features=768, bias=True)\n",
       "              (LayerNorm): LayerNorm((768,), eps=1e-12, elementwise_affine=True)\n",
       "              (dropout): Dropout(p=0.1, inplace=False)\n",
       "            )\n",
       "          )\n",
       "          (intermediate): BertIntermediate(\n",
       "            (dense): Linear(in_features=768, out_features=3072, bias=True)\n",
       "            (intermediate_act_fn): GELUActivation()\n",
       "          )\n",
       "          (output): BertOutput(\n",
       "            (dense): Linear(in_features=3072, out_features=768, bias=True)\n",
       "            (LayerNorm): LayerNorm((768,), eps=1e-12, elementwise_affine=True)\n",
       "            (dropout): Dropout(p=0.1, inplace=False)\n",
       "          )\n",
       "        )\n",
       "        (5): BertLayer(\n",
       "          (attention): BertAttention(\n",
       "            (self): BertSelfAttention(\n",
       "              (query): Linear(in_features=768, out_features=768, bias=True)\n",
       "              (key): Linear(in_features=768, out_features=768, bias=True)\n",
       "              (value): Linear(in_features=768, out_features=768, bias=True)\n",
       "              (dropout): Dropout(p=0.1, inplace=False)\n",
       "            )\n",
       "            (output): BertSelfOutput(\n",
       "              (dense): Linear(in_features=768, out_features=768, bias=True)\n",
       "              (LayerNorm): LayerNorm((768,), eps=1e-12, elementwise_affine=True)\n",
       "              (dropout): Dropout(p=0.1, inplace=False)\n",
       "            )\n",
       "          )\n",
       "          (intermediate): BertIntermediate(\n",
       "            (dense): Linear(in_features=768, out_features=3072, bias=True)\n",
       "            (intermediate_act_fn): GELUActivation()\n",
       "          )\n",
       "          (output): BertOutput(\n",
       "            (dense): Linear(in_features=3072, out_features=768, bias=True)\n",
       "            (LayerNorm): LayerNorm((768,), eps=1e-12, elementwise_affine=True)\n",
       "            (dropout): Dropout(p=0.1, inplace=False)\n",
       "          )\n",
       "        )\n",
       "        (6): BertLayer(\n",
       "          (attention): BertAttention(\n",
       "            (self): BertSelfAttention(\n",
       "              (query): Linear(in_features=768, out_features=768, bias=True)\n",
       "              (key): Linear(in_features=768, out_features=768, bias=True)\n",
       "              (value): Linear(in_features=768, out_features=768, bias=True)\n",
       "              (dropout): Dropout(p=0.1, inplace=False)\n",
       "            )\n",
       "            (output): BertSelfOutput(\n",
       "              (dense): Linear(in_features=768, out_features=768, bias=True)\n",
       "              (LayerNorm): LayerNorm((768,), eps=1e-12, elementwise_affine=True)\n",
       "              (dropout): Dropout(p=0.1, inplace=False)\n",
       "            )\n",
       "          )\n",
       "          (intermediate): BertIntermediate(\n",
       "            (dense): Linear(in_features=768, out_features=3072, bias=True)\n",
       "            (intermediate_act_fn): GELUActivation()\n",
       "          )\n",
       "          (output): BertOutput(\n",
       "            (dense): Linear(in_features=3072, out_features=768, bias=True)\n",
       "            (LayerNorm): LayerNorm((768,), eps=1e-12, elementwise_affine=True)\n",
       "            (dropout): Dropout(p=0.1, inplace=False)\n",
       "          )\n",
       "        )\n",
       "        (7): BertLayer(\n",
       "          (attention): BertAttention(\n",
       "            (self): BertSelfAttention(\n",
       "              (query): Linear(in_features=768, out_features=768, bias=True)\n",
       "              (key): Linear(in_features=768, out_features=768, bias=True)\n",
       "              (value): Linear(in_features=768, out_features=768, bias=True)\n",
       "              (dropout): Dropout(p=0.1, inplace=False)\n",
       "            )\n",
       "            (output): BertSelfOutput(\n",
       "              (dense): Linear(in_features=768, out_features=768, bias=True)\n",
       "              (LayerNorm): LayerNorm((768,), eps=1e-12, elementwise_affine=True)\n",
       "              (dropout): Dropout(p=0.1, inplace=False)\n",
       "            )\n",
       "          )\n",
       "          (intermediate): BertIntermediate(\n",
       "            (dense): Linear(in_features=768, out_features=3072, bias=True)\n",
       "            (intermediate_act_fn): GELUActivation()\n",
       "          )\n",
       "          (output): BertOutput(\n",
       "            (dense): Linear(in_features=3072, out_features=768, bias=True)\n",
       "            (LayerNorm): LayerNorm((768,), eps=1e-12, elementwise_affine=True)\n",
       "            (dropout): Dropout(p=0.1, inplace=False)\n",
       "          )\n",
       "        )\n",
       "        (8): BertLayer(\n",
       "          (attention): BertAttention(\n",
       "            (self): BertSelfAttention(\n",
       "              (query): Linear(in_features=768, out_features=768, bias=True)\n",
       "              (key): Linear(in_features=768, out_features=768, bias=True)\n",
       "              (value): Linear(in_features=768, out_features=768, bias=True)\n",
       "              (dropout): Dropout(p=0.1, inplace=False)\n",
       "            )\n",
       "            (output): BertSelfOutput(\n",
       "              (dense): Linear(in_features=768, out_features=768, bias=True)\n",
       "              (LayerNorm): LayerNorm((768,), eps=1e-12, elementwise_affine=True)\n",
       "              (dropout): Dropout(p=0.1, inplace=False)\n",
       "            )\n",
       "          )\n",
       "          (intermediate): BertIntermediate(\n",
       "            (dense): Linear(in_features=768, out_features=3072, bias=True)\n",
       "            (intermediate_act_fn): GELUActivation()\n",
       "          )\n",
       "          (output): BertOutput(\n",
       "            (dense): Linear(in_features=3072, out_features=768, bias=True)\n",
       "            (LayerNorm): LayerNorm((768,), eps=1e-12, elementwise_affine=True)\n",
       "            (dropout): Dropout(p=0.1, inplace=False)\n",
       "          )\n",
       "        )\n",
       "        (9): BertLayer(\n",
       "          (attention): BertAttention(\n",
       "            (self): BertSelfAttention(\n",
       "              (query): Linear(in_features=768, out_features=768, bias=True)\n",
       "              (key): Linear(in_features=768, out_features=768, bias=True)\n",
       "              (value): Linear(in_features=768, out_features=768, bias=True)\n",
       "              (dropout): Dropout(p=0.1, inplace=False)\n",
       "            )\n",
       "            (output): BertSelfOutput(\n",
       "              (dense): Linear(in_features=768, out_features=768, bias=True)\n",
       "              (LayerNorm): LayerNorm((768,), eps=1e-12, elementwise_affine=True)\n",
       "              (dropout): Dropout(p=0.1, inplace=False)\n",
       "            )\n",
       "          )\n",
       "          (intermediate): BertIntermediate(\n",
       "            (dense): Linear(in_features=768, out_features=3072, bias=True)\n",
       "            (intermediate_act_fn): GELUActivation()\n",
       "          )\n",
       "          (output): BertOutput(\n",
       "            (dense): Linear(in_features=3072, out_features=768, bias=True)\n",
       "            (LayerNorm): LayerNorm((768,), eps=1e-12, elementwise_affine=True)\n",
       "            (dropout): Dropout(p=0.1, inplace=False)\n",
       "          )\n",
       "        )\n",
       "        (10): BertLayer(\n",
       "          (attention): BertAttention(\n",
       "            (self): BertSelfAttention(\n",
       "              (query): Linear(in_features=768, out_features=768, bias=True)\n",
       "              (key): Linear(in_features=768, out_features=768, bias=True)\n",
       "              (value): Linear(in_features=768, out_features=768, bias=True)\n",
       "              (dropout): Dropout(p=0.1, inplace=False)\n",
       "            )\n",
       "            (output): BertSelfOutput(\n",
       "              (dense): Linear(in_features=768, out_features=768, bias=True)\n",
       "              (LayerNorm): LayerNorm((768,), eps=1e-12, elementwise_affine=True)\n",
       "              (dropout): Dropout(p=0.1, inplace=False)\n",
       "            )\n",
       "          )\n",
       "          (intermediate): BertIntermediate(\n",
       "            (dense): Linear(in_features=768, out_features=3072, bias=True)\n",
       "            (intermediate_act_fn): GELUActivation()\n",
       "          )\n",
       "          (output): BertOutput(\n",
       "            (dense): Linear(in_features=3072, out_features=768, bias=True)\n",
       "            (LayerNorm): LayerNorm((768,), eps=1e-12, elementwise_affine=True)\n",
       "            (dropout): Dropout(p=0.1, inplace=False)\n",
       "          )\n",
       "        )\n",
       "        (11): BertLayer(\n",
       "          (attention): BertAttention(\n",
       "            (self): BertSelfAttention(\n",
       "              (query): Linear(in_features=768, out_features=768, bias=True)\n",
       "              (key): Linear(in_features=768, out_features=768, bias=True)\n",
       "              (value): Linear(in_features=768, out_features=768, bias=True)\n",
       "              (dropout): Dropout(p=0.1, inplace=False)\n",
       "            )\n",
       "            (output): BertSelfOutput(\n",
       "              (dense): Linear(in_features=768, out_features=768, bias=True)\n",
       "              (LayerNorm): LayerNorm((768,), eps=1e-12, elementwise_affine=True)\n",
       "              (dropout): Dropout(p=0.1, inplace=False)\n",
       "            )\n",
       "          )\n",
       "          (intermediate): BertIntermediate(\n",
       "            (dense): Linear(in_features=768, out_features=3072, bias=True)\n",
       "            (intermediate_act_fn): GELUActivation()\n",
       "          )\n",
       "          (output): BertOutput(\n",
       "            (dense): Linear(in_features=3072, out_features=768, bias=True)\n",
       "            (LayerNorm): LayerNorm((768,), eps=1e-12, elementwise_affine=True)\n",
       "            (dropout): Dropout(p=0.1, inplace=False)\n",
       "          )\n",
       "        )\n",
       "      )\n",
       "    )\n",
       "    (pooler): BertPooler(\n",
       "      (dense): Linear(in_features=768, out_features=768, bias=True)\n",
       "      (activation): Tanh()\n",
       "    )\n",
       "  )\n",
       "  (dropout): Dropout(p=0.1, inplace=False)\n",
       "  (classifier): Linear(in_features=768, out_features=2, bias=True)\n",
       ")"
      ]
     },
     "execution_count": 31,
     "metadata": {},
     "output_type": "execute_result"
    }
   ],
   "source": [
    "from transformers import BertForSequenceClassification, AdamW, BertConfig\n",
    "# Load BertForSequenceClassification, the pretrained BERT model with a single \n",
    "# linear classification layer on top. \n",
    "model = BertForSequenceClassification.from_pretrained(\n",
    "                                                        \"bert-base-uncased\", # Use the 12-layer BERT model, with an uncased vocab.\n",
    "                                                        num_labels = 2, # The number of output labels--2 for binary classification.\n",
    "                                                                        # You can increase this for multi-class tasks.   \n",
    "                                                        output_attentions = False, # Whether the model returns attentions weights.\n",
    "                                                        output_hidden_states = False, # Whether the model returns all hidden-states.\n",
    "                                                     )\n",
    "    \n",
    "# Tell pytorch to run this model on the GPU.\n",
    "model.cuda()\n"
   ]
  },
  {
   "cell_type": "code",
   "execution_count": 32,
   "id": "b1a56756",
   "metadata": {
    "execution": {
     "iopub.execute_input": "2022-05-08T11:36:29.729725Z",
     "iopub.status.busy": "2022-05-08T11:36:29.729051Z",
     "iopub.status.idle": "2022-05-08T11:36:29.735079Z",
     "shell.execute_reply": "2022-05-08T11:36:29.734457Z"
    },
    "id": "awgJgo7AIsuv",
    "outputId": "b106d118-1dce-4a37-b5c7-b00708f3ba3d",
    "papermill": {
     "duration": 0.052628,
     "end_time": "2022-05-08T11:36:29.736698",
     "exception": false,
     "start_time": "2022-05-08T11:36:29.684070",
     "status": "completed"
    },
    "tags": []
   },
   "outputs": [],
   "source": [
    "device='cuda' if torch.cuda.is_available() else 'cpu'\n",
    "import torch.optim as optim\n",
    "optimizer = optim.Adam(model.parameters(),lr = 2e-5, # args.learning_rate - default is 5e-5, our notebook had 2e-5\n",
    "                                        eps = 1e-8) # args.adam_epsilon  - default is 1e-8."
   ]
  },
  {
   "cell_type": "code",
   "execution_count": 33,
   "id": "8384af11",
   "metadata": {
    "execution": {
     "iopub.execute_input": "2022-05-08T11:36:29.825538Z",
     "iopub.status.busy": "2022-05-08T11:36:29.825321Z",
     "iopub.status.idle": "2022-05-08T11:36:29.829694Z",
     "shell.execute_reply": "2022-05-08T11:36:29.829060Z"
    },
    "id": "awgJgo7AIsuv",
    "outputId": "b106d118-1dce-4a37-b5c7-b00708f3ba3d",
    "papermill": {
     "duration": 0.050872,
     "end_time": "2022-05-08T11:36:29.831323",
     "exception": false,
     "start_time": "2022-05-08T11:36:29.780451",
     "status": "completed"
    },
    "tags": []
   },
   "outputs": [],
   "source": [
    "from transformers import get_linear_schedule_with_warmup\n",
    "\n",
    "# Number of training epochs (authors recommend between 2 and 4)\n",
    "epochs = 2\n",
    "\n",
    "# Total number of training steps is number of batches * number of epochs.\n",
    "total_steps = len(train_dataloader) * epochs\n",
    "\n",
    "# Create the learning rate scheduler.\n",
    "scheduler = get_linear_schedule_with_warmup(optimizer, \n",
    "                      num_warmup_steps = 100, # Default value in run_glue.py\n",
    "                      num_training_steps = total_steps)"
   ]
  },
  {
   "cell_type": "code",
   "execution_count": 34,
   "id": "66cd41be",
   "metadata": {
    "execution": {
     "iopub.execute_input": "2022-05-08T11:36:29.920979Z",
     "iopub.status.busy": "2022-05-08T11:36:29.920631Z",
     "iopub.status.idle": "2022-05-08T11:36:29.925004Z",
     "shell.execute_reply": "2022-05-08T11:36:29.924329Z"
    },
    "id": "nNJcGozsJIGd",
    "papermill": {
     "duration": 0.051202,
     "end_time": "2022-05-08T11:36:29.926613",
     "exception": false,
     "start_time": "2022-05-08T11:36:29.875411",
     "status": "completed"
    },
    "tags": []
   },
   "outputs": [],
   "source": [
    "import numpy as np\n",
    "\n",
    "# Function to calculate the accuracy of our predictions vs labels\n",
    "def flat_accuracy(preds, labels):\n",
    "    pred_flat = np.argmax(preds, axis=1).flatten()\n",
    "    labels_flat = labels.flatten()\n",
    "    return np.sum(pred_flat == labels_flat) / len(labels_flat)"
   ]
  },
  {
   "cell_type": "code",
   "execution_count": 35,
   "id": "fceecaed",
   "metadata": {
    "execution": {
     "iopub.execute_input": "2022-05-08T11:36:30.017899Z",
     "iopub.status.busy": "2022-05-08T11:36:30.017123Z",
     "iopub.status.idle": "2022-05-08T11:36:30.022162Z",
     "shell.execute_reply": "2022-05-08T11:36:30.021538Z"
    },
    "id": "nNJcGozsJIGd",
    "papermill": {
     "duration": 0.053489,
     "end_time": "2022-05-08T11:36:30.023810",
     "exception": false,
     "start_time": "2022-05-08T11:36:29.970321",
     "status": "completed"
    },
    "tags": []
   },
   "outputs": [],
   "source": [
    "import time\n",
    "import datetime\n",
    "\n",
    "def format_time(elapsed):\n",
    "    '''\n",
    "    Takes a time in seconds and returns a string hh:mm:ss\n",
    "    '''\n",
    "    # Round to the nearest second.\n",
    "    elapsed_rounded = int(round((elapsed)))\n",
    "    \n",
    "    # Format as hh:mm:ss\n",
    "    return str(datetime.timedelta(seconds=elapsed_rounded))"
   ]
  },
  {
   "cell_type": "code",
   "execution_count": 36,
   "id": "44e46f98",
   "metadata": {
    "execution": {
     "iopub.execute_input": "2022-05-08T11:36:30.112846Z",
     "iopub.status.busy": "2022-05-08T11:36:30.112332Z",
     "iopub.status.idle": "2022-05-08T11:36:30.117809Z",
     "shell.execute_reply": "2022-05-08T11:36:30.117114Z"
    },
    "id": "_kMvRoiqJLhz",
    "outputId": "e6b89464-3748-43b5-f310-67dcc16c8c70",
    "papermill": {
     "duration": 0.052811,
     "end_time": "2022-05-08T11:36:30.120621",
     "exception": false,
     "start_time": "2022-05-08T11:36:30.067810",
     "status": "completed"
    },
    "tags": []
   },
   "outputs": [
    {
     "name": "stdout",
     "output_type": "stream",
     "text": [
      "CPU times: user 113 µs, sys: 1 µs, total: 114 µs\n",
      "Wall time: 142 µs\n"
     ]
    }
   ],
   "source": [
    "%%time\n",
    "import random\n",
    "device='cuda' if torch.cuda.is_available() else 'cpu'\n",
    "seed_val = 42\n",
    "\n",
    "random.seed(seed_val)\n",
    "np.random.seed(seed_val)\n",
    "torch.manual_seed(seed_val)\n",
    "torch.cuda.manual_seed_all(seed_val)\n",
    "\n",
    "# Store the average loss after each epoch so we can plot them.\n",
    "loss_values = []"
   ]
  },
  {
   "cell_type": "code",
   "execution_count": 37,
   "id": "f896fa8c",
   "metadata": {
    "execution": {
     "iopub.execute_input": "2022-05-08T11:36:30.211850Z",
     "iopub.status.busy": "2022-05-08T11:36:30.211582Z",
     "iopub.status.idle": "2022-05-08T11:46:06.775258Z",
     "shell.execute_reply": "2022-05-08T11:46:06.772841Z"
    },
    "id": "_kMvRoiqJLhz",
    "outputId": "e6b89464-3748-43b5-f310-67dcc16c8c70",
    "papermill": {
     "duration": 576.674136,
     "end_time": "2022-05-08T11:46:06.840053",
     "exception": false,
     "start_time": "2022-05-08T11:36:30.165917",
     "status": "completed"
    },
    "tags": []
   },
   "outputs": [
    {
     "name": "stdout",
     "output_type": "stream",
     "text": [
      "\n",
      "======== Epoch 1 / 2 ========\n",
      "Training...\n",
      "  Batch    40  of  1,250.    Elapsed: 0:00:09.\n",
      "  Batch    80  of  1,250.    Elapsed: 0:00:18.\n",
      "  Batch   120  of  1,250.    Elapsed: 0:00:27.\n",
      "  Batch   160  of  1,250.    Elapsed: 0:00:35.\n",
      "  Batch   200  of  1,250.    Elapsed: 0:00:44.\n",
      "  Batch   240  of  1,250.    Elapsed: 0:00:52.\n",
      "  Batch   280  of  1,250.    Elapsed: 0:01:01.\n",
      "  Batch   320  of  1,250.    Elapsed: 0:01:10.\n",
      "  Batch   360  of  1,250.    Elapsed: 0:01:18.\n",
      "  Batch   400  of  1,250.    Elapsed: 0:01:27.\n",
      "  Batch   440  of  1,250.    Elapsed: 0:01:35.\n",
      "  Batch   480  of  1,250.    Elapsed: 0:01:44.\n",
      "  Batch   520  of  1,250.    Elapsed: 0:01:53.\n",
      "  Batch   560  of  1,250.    Elapsed: 0:02:01.\n",
      "  Batch   600  of  1,250.    Elapsed: 0:02:10.\n",
      "  Batch   640  of  1,250.    Elapsed: 0:02:18.\n",
      "  Batch   680  of  1,250.    Elapsed: 0:02:27.\n",
      "  Batch   720  of  1,250.    Elapsed: 0:02:35.\n",
      "  Batch   760  of  1,250.    Elapsed: 0:02:44.\n",
      "  Batch   800  of  1,250.    Elapsed: 0:02:53.\n",
      "  Batch   840  of  1,250.    Elapsed: 0:03:01.\n",
      "  Batch   880  of  1,250.    Elapsed: 0:03:10.\n",
      "  Batch   920  of  1,250.    Elapsed: 0:03:18.\n",
      "  Batch   960  of  1,250.    Elapsed: 0:03:27.\n",
      "  Batch 1,000  of  1,250.    Elapsed: 0:03:35.\n",
      "  Batch 1,040  of  1,250.    Elapsed: 0:03:44.\n",
      "  Batch 1,080  of  1,250.    Elapsed: 0:03:53.\n",
      "  Batch 1,120  of  1,250.    Elapsed: 0:04:01.\n",
      "  Batch 1,160  of  1,250.    Elapsed: 0:04:10.\n",
      "  Batch 1,200  of  1,250.    Elapsed: 0:04:18.\n",
      "  Batch 1,240  of  1,250.    Elapsed: 0:04:27.\n",
      "\n",
      "  Average training loss: 0.36\n",
      "  Training epcoh took: 0:04:29\n",
      "\n",
      "Running Validation...\n",
      "  Accuracy: 0.88\n",
      "  Validation took: 0:00:20\n",
      "\n",
      "======== Epoch 2 / 2 ========\n",
      "Training...\n",
      "  Batch    40  of  1,250.    Elapsed: 0:00:09.\n",
      "  Batch    80  of  1,250.    Elapsed: 0:00:17.\n",
      "  Batch   120  of  1,250.    Elapsed: 0:00:26.\n",
      "  Batch   160  of  1,250.    Elapsed: 0:00:34.\n",
      "  Batch   200  of  1,250.    Elapsed: 0:00:43.\n",
      "  Batch   240  of  1,250.    Elapsed: 0:00:51.\n",
      "  Batch   280  of  1,250.    Elapsed: 0:01:00.\n",
      "  Batch   320  of  1,250.    Elapsed: 0:01:09.\n",
      "  Batch   360  of  1,250.    Elapsed: 0:01:17.\n",
      "  Batch   400  of  1,250.    Elapsed: 0:01:26.\n",
      "  Batch   440  of  1,250.    Elapsed: 0:01:34.\n",
      "  Batch   480  of  1,250.    Elapsed: 0:01:43.\n",
      "  Batch   520  of  1,250.    Elapsed: 0:01:52.\n",
      "  Batch   560  of  1,250.    Elapsed: 0:02:00.\n",
      "  Batch   600  of  1,250.    Elapsed: 0:02:09.\n",
      "  Batch   640  of  1,250.    Elapsed: 0:02:17.\n",
      "  Batch   680  of  1,250.    Elapsed: 0:02:26.\n",
      "  Batch   720  of  1,250.    Elapsed: 0:02:34.\n",
      "  Batch   760  of  1,250.    Elapsed: 0:02:43.\n",
      "  Batch   800  of  1,250.    Elapsed: 0:02:52.\n",
      "  Batch   840  of  1,250.    Elapsed: 0:03:00.\n",
      "  Batch   880  of  1,250.    Elapsed: 0:03:09.\n",
      "  Batch   920  of  1,250.    Elapsed: 0:03:17.\n",
      "  Batch   960  of  1,250.    Elapsed: 0:03:26.\n",
      "  Batch 1,000  of  1,250.    Elapsed: 0:03:35.\n",
      "  Batch 1,040  of  1,250.    Elapsed: 0:03:43.\n",
      "  Batch 1,080  of  1,250.    Elapsed: 0:03:52.\n",
      "  Batch 1,120  of  1,250.    Elapsed: 0:04:00.\n",
      "  Batch 1,160  of  1,250.    Elapsed: 0:04:09.\n",
      "  Batch 1,200  of  1,250.    Elapsed: 0:04:17.\n",
      "  Batch 1,240  of  1,250.    Elapsed: 0:04:26.\n",
      "\n",
      "  Average training loss: 0.20\n",
      "  Training epcoh took: 0:04:28\n",
      "\n",
      "Running Validation...\n",
      "  Accuracy: 0.89\n",
      "  Validation took: 0:00:20\n",
      "\n",
      "Training complete!\n"
     ]
    }
   ],
   "source": [
    "# For each epoch...\n",
    "for epoch_i in range(0, epochs):\n",
    "    \n",
    "    # ========================================\n",
    "    #               Training\n",
    "    # ========================================\n",
    "    \n",
    "    # Perform one full pass over the training set.\n",
    "\n",
    "    print(\"\")\n",
    "    print('======== Epoch {:} / {:} ========'.format(epoch_i + 1, epochs))\n",
    "    print('Training...')\n",
    "\n",
    "    # Measure how long the training epoch takes.\n",
    "    t0 = time.time()\n",
    "\n",
    "    # Reset the total loss for this epoch.\n",
    "    total_loss = 0\n",
    "    model.train()\n",
    "    for step, batch in enumerate(train_dataloader):\n",
    "\n",
    "        if step % 40 == 0 and not step == 0:\n",
    "\n",
    "            elapsed = format_time(time.time() - t0)\n",
    "\n",
    "            print('  Batch {:>5,}  of  {:>5,}.    Elapsed: {:}.'.format(step, len(train_dataloader), elapsed))\n",
    "\n",
    "        b_input_ids = batch[0].to(device)\n",
    "        b_input_mask = batch[1].to(device)\n",
    "        b_labels = batch[2].to(device)\n",
    "\n",
    "        model.zero_grad()        \n",
    "        outputs = model(b_input_ids, \n",
    "                    token_type_ids=None, \n",
    "                    attention_mask=b_input_mask, \n",
    "                    labels=b_labels)\n",
    "        \n",
    "        # The call to `model` always returns a tuple, so we need to pull the \n",
    "        # loss value out of the tuple.\n",
    "        loss = outputs[0]\n",
    "        total_loss += loss.item()\n",
    "\n",
    "        # Perform a backward pass to calculate the gradients.\n",
    "        loss.backward()\n",
    "\n",
    "        # Clip the norm of the gradients to 1.0.\n",
    "        # This is to help prevent the \"exploding gradients\" problem.\n",
    "        torch.nn.utils.clip_grad_norm_(model.parameters(), 1.0)\n",
    "        optimizer.step()\n",
    "        scheduler.step()\n",
    "\n",
    "    # Calculate the average loss over the training data.\n",
    "    avg_train_loss = total_loss / len(train_dataloader)            \n",
    "    \n",
    "    # Store the loss value for plotting the learning curve.\n",
    "    loss_values.append(avg_train_loss)\n",
    "\n",
    "    print(\"\")\n",
    "    print(\"  Average training loss: {0:.2f}\".format(avg_train_loss))\n",
    "    print(\"  Training epcoh took: {:}\".format(format_time(time.time() - t0)))\n",
    "        \n",
    "    # ========================================\n",
    "    #               Validation\n",
    "    # ========================================\n",
    "    # After the completion of each training epoch, measure our performance on\n",
    "    # our validation set.\n",
    "\n",
    "    print(\"\")\n",
    "    print(\"Running Validation...\")\n",
    "\n",
    "    t0 = time.time()\n",
    "\n",
    "    # Put the model in evaluation mode--the dropout layers behave differently\n",
    "    # during evaluation.\n",
    "    model.eval()\n",
    "\n",
    "    # Tracking variables \n",
    "    eval_loss, eval_accuracy = 0, 0\n",
    "    nb_eval_steps, nb_eval_examples = 0, 0\n",
    "\n",
    "    # Evaluate data for one epoch\n",
    "    for batch in validation_dataloader:\n",
    "        # Add batch to GPU\n",
    "        batch = tuple(t.to(device) for t in batch)\n",
    "        b_input_ids, b_input_mask, b_labels = batch\n",
    "        with torch.no_grad():        \n",
    "            outputs = model(b_input_ids, \n",
    "                            token_type_ids=None, \n",
    "                            attention_mask=b_input_mask)\n",
    "        \n",
    "        # Get the \"logits\" output by the model. The \"logits\" are the output\n",
    "        # values prior to applying an activation function like the softmax.\n",
    "        logits = outputs[0]\n",
    "\n",
    "        # Move logits and labels to CPU\n",
    "        logits = logits.detach().cpu().numpy()\n",
    "        label_ids = b_labels.to('cpu').numpy()\n",
    "        \n",
    "        # Calculate the accuracy for this batch of test sentences.\n",
    "        tmp_eval_accuracy = flat_accuracy(logits, label_ids)\n",
    "        \n",
    "        # Accumulate the total accuracy.\n",
    "        eval_accuracy += tmp_eval_accuracy\n",
    "\n",
    "        # Track the number of batches\n",
    "        nb_eval_steps += 1\n",
    "\n",
    "    # Report the final accuracy for this validation run.\n",
    "    print(\"  Accuracy: {0:.2f}\".format(eval_accuracy/nb_eval_steps))\n",
    "    print(\"  Validation took: {:}\".format(format_time(time.time() - t0)))\n",
    "\n",
    "print(\"\")\n",
    "print(\"Training complete!\")"
   ]
  },
  {
   "cell_type": "code",
   "execution_count": 38,
   "id": "09de62be",
   "metadata": {
    "execution": {
     "iopub.execute_input": "2022-05-08T11:46:06.969024Z",
     "iopub.status.busy": "2022-05-08T11:46:06.968787Z",
     "iopub.status.idle": "2022-05-08T11:47:45.261183Z",
     "shell.execute_reply": "2022-05-08T11:47:45.260477Z"
    },
    "id": "hpod5Q91JNvK",
    "outputId": "e8cd6e13-02dd-466f-88ab-1af2a1299fd2",
    "papermill": {
     "duration": 98.424183,
     "end_time": "2022-05-08T11:47:45.328012",
     "exception": false,
     "start_time": "2022-05-08T11:46:06.903829",
     "status": "completed"
    },
    "tags": []
   },
   "outputs": [
    {
     "name": "stdout",
     "output_type": "stream",
     "text": [
      "  Accuracy: 0.4982\n",
      "  Test took: 0:01:38\n"
     ]
    }
   ],
   "source": [
    "t0 = time.time()\n",
    "model.eval()\n",
    "\n",
    "# Tracking variables \n",
    "eval_loss, eval_accuracy = 0, 0\n",
    "nb_eval_steps, nb_eval_examples = 0, 0\n",
    "\n",
    "# Evaluate data for one epoch\n",
    "for batch in test_dataloader:\n",
    "    \n",
    "    # Add batch to GPU\n",
    "    batch = tuple(t.to(device) for t in batch)\n",
    "    \n",
    "    # Unpack the inputs from our dataloader\n",
    "    b_input_ids, b_input_mask, b_labels = batch\n",
    "    with torch.no_grad():        \n",
    "        outputs = model(b_input_ids, \n",
    "                        token_type_ids=None, \n",
    "                        attention_mask=b_input_mask)\n",
    "    \n",
    "    # Get the \"logits\" output by the model. The \"logits\" are the output\n",
    "    # values prior to applying an activation function like the softmax.\n",
    "    logits = outputs[0]\n",
    "\n",
    "    # Move logits and labels to CPU\n",
    "    logits = logits.detach().cpu().numpy()\n",
    "    label_ids = b_labels.to('cpu').numpy()\n",
    "    \n",
    "    # Calculate the accuracy for this batch of test sentences.\n",
    "    tmp_eval_accuracy = flat_accuracy(logits, label_ids)\n",
    "    \n",
    "    # Accumulate the total accuracy.\n",
    "    eval_accuracy += tmp_eval_accuracy\n",
    "\n",
    "    # Track the number of batches\n",
    "    nb_eval_steps += 1\n",
    "print(\"  Accuracy: {0:.4f}\".format(eval_accuracy/nb_eval_steps))\n",
    "print(\"  Test took: {:}\".format(format_time(time.time() - t0)))\n"
   ]
  },
  {
   "cell_type": "code",
   "execution_count": null,
   "id": "c306f588",
   "metadata": {
    "id": "AqisI64HNr0R",
    "papermill": {
     "duration": 0.064139,
     "end_time": "2022-05-08T11:47:45.456697",
     "exception": false,
     "start_time": "2022-05-08T11:47:45.392558",
     "status": "completed"
    },
    "tags": []
   },
   "outputs": [],
   "source": []
  }
 ],
 "metadata": {
  "kernelspec": {
   "display_name": "Python 3",
   "language": "python",
   "name": "python3"
  },
  "language_info": {
   "codemirror_mode": {
    "name": "ipython",
    "version": 3
   },
   "file_extension": ".py",
   "mimetype": "text/x-python",
   "name": "python",
   "nbconvert_exporter": "python",
   "pygments_lexer": "ipython3",
   "version": "3.7.12"
  },
  "papermill": {
   "default_parameters": {},
   "duration": 1132.726274,
   "end_time": "2022-05-08T11:47:49.179670",
   "environment_variables": {},
   "exception": null,
   "input_path": "__notebook__.ipynb",
   "output_path": "__notebook__.ipynb",
   "parameters": {},
   "start_time": "2022-05-08T11:28:56.453396",
   "version": "2.3.4"
  },
  "widgets": {
   "application/vnd.jupyter.widget-state+json": {
    "state": {
     "0c60a234f8e6441a82d94d29c4721d7a": {
      "model_module": "@jupyter-widgets/controls",
      "model_module_version": "1.5.0",
      "model_name": "FloatProgressModel",
      "state": {
       "_dom_classes": [],
       "_model_module": "@jupyter-widgets/controls",
       "_model_module_version": "1.5.0",
       "_model_name": "FloatProgressModel",
       "_view_count": null,
       "_view_module": "@jupyter-widgets/controls",
       "_view_module_version": "1.5.0",
       "_view_name": "ProgressView",
       "bar_style": "success",
       "description": "",
       "description_tooltip": null,
       "layout": "IPY_MODEL_3c07c7fdfa124be2916082f7177c84b4",
       "max": 231508.0,
       "min": 0.0,
       "orientation": "horizontal",
       "style": "IPY_MODEL_3e49d6df5c5e48e9a7cefd984c85e302",
       "value": 231508.0
      }
     },
     "3c07c7fdfa124be2916082f7177c84b4": {
      "model_module": "@jupyter-widgets/base",
      "model_module_version": "1.2.0",
      "model_name": "LayoutModel",
      "state": {
       "_model_module": "@jupyter-widgets/base",
       "_model_module_version": "1.2.0",
       "_model_name": "LayoutModel",
       "_view_count": null,
       "_view_module": "@jupyter-widgets/base",
       "_view_module_version": "1.2.0",
       "_view_name": "LayoutView",
       "align_content": null,
       "align_items": null,
       "align_self": null,
       "border": null,
       "bottom": null,
       "display": null,
       "flex": null,
       "flex_flow": null,
       "grid_area": null,
       "grid_auto_columns": null,
       "grid_auto_flow": null,
       "grid_auto_rows": null,
       "grid_column": null,
       "grid_gap": null,
       "grid_row": null,
       "grid_template_areas": null,
       "grid_template_columns": null,
       "grid_template_rows": null,
       "height": null,
       "justify_content": null,
       "justify_items": null,
       "left": null,
       "margin": null,
       "max_height": null,
       "max_width": null,
       "min_height": null,
       "min_width": null,
       "object_fit": null,
       "object_position": null,
       "order": null,
       "overflow": null,
       "overflow_x": null,
       "overflow_y": null,
       "padding": null,
       "right": null,
       "top": null,
       "visibility": null,
       "width": null
      }
     },
     "3e49d6df5c5e48e9a7cefd984c85e302": {
      "model_module": "@jupyter-widgets/controls",
      "model_module_version": "1.5.0",
      "model_name": "ProgressStyleModel",
      "state": {
       "_model_module": "@jupyter-widgets/controls",
       "_model_module_version": "1.5.0",
       "_model_name": "ProgressStyleModel",
       "_view_count": null,
       "_view_module": "@jupyter-widgets/base",
       "_view_module_version": "1.2.0",
       "_view_name": "StyleView",
       "bar_color": null,
       "description_width": ""
      }
     },
     "44e7240195644e2f8813f25c8a2b2e01": {
      "model_module": "@jupyter-widgets/base",
      "model_module_version": "1.2.0",
      "model_name": "LayoutModel",
      "state": {
       "_model_module": "@jupyter-widgets/base",
       "_model_module_version": "1.2.0",
       "_model_name": "LayoutModel",
       "_view_count": null,
       "_view_module": "@jupyter-widgets/base",
       "_view_module_version": "1.2.0",
       "_view_name": "LayoutView",
       "align_content": null,
       "align_items": null,
       "align_self": null,
       "border": null,
       "bottom": null,
       "display": null,
       "flex": null,
       "flex_flow": null,
       "grid_area": null,
       "grid_auto_columns": null,
       "grid_auto_flow": null,
       "grid_auto_rows": null,
       "grid_column": null,
       "grid_gap": null,
       "grid_row": null,
       "grid_template_areas": null,
       "grid_template_columns": null,
       "grid_template_rows": null,
       "height": null,
       "justify_content": null,
       "justify_items": null,
       "left": null,
       "margin": null,
       "max_height": null,
       "max_width": null,
       "min_height": null,
       "min_width": null,
       "object_fit": null,
       "object_position": null,
       "order": null,
       "overflow": null,
       "overflow_x": null,
       "overflow_y": null,
       "padding": null,
       "right": null,
       "top": null,
       "visibility": null,
       "width": null
      }
     },
     "4515737c817442c5a4fe8fc1a00db4c6": {
      "model_module": "@jupyter-widgets/controls",
      "model_module_version": "1.5.0",
      "model_name": "ProgressStyleModel",
      "state": {
       "_model_module": "@jupyter-widgets/controls",
       "_model_module_version": "1.5.0",
       "_model_name": "ProgressStyleModel",
       "_view_count": null,
       "_view_module": "@jupyter-widgets/base",
       "_view_module_version": "1.2.0",
       "_view_name": "StyleView",
       "bar_color": null,
       "description_width": ""
      }
     },
     "4f43cac0593e49b6a09ad8e9e6a7cfbd": {
      "model_module": "@jupyter-widgets/controls",
      "model_module_version": "1.5.0",
      "model_name": "FloatProgressModel",
      "state": {
       "_dom_classes": [],
       "_model_module": "@jupyter-widgets/controls",
       "_model_module_version": "1.5.0",
       "_model_name": "FloatProgressModel",
       "_view_count": null,
       "_view_module": "@jupyter-widgets/controls",
       "_view_module_version": "1.5.0",
       "_view_name": "ProgressView",
       "bar_style": "success",
       "description": "",
       "description_tooltip": null,
       "layout": "IPY_MODEL_5feb2a8d512b48ab995a4d432d7d5b8e",
       "max": 440473133.0,
       "min": 0.0,
       "orientation": "horizontal",
       "style": "IPY_MODEL_4515737c817442c5a4fe8fc1a00db4c6",
       "value": 440473133.0
      }
     },
     "5a458ebec1064201a3f8ffe97c5d9ccb": {
      "model_module": "@jupyter-widgets/base",
      "model_module_version": "1.2.0",
      "model_name": "LayoutModel",
      "state": {
       "_model_module": "@jupyter-widgets/base",
       "_model_module_version": "1.2.0",
       "_model_name": "LayoutModel",
       "_view_count": null,
       "_view_module": "@jupyter-widgets/base",
       "_view_module_version": "1.2.0",
       "_view_name": "LayoutView",
       "align_content": null,
       "align_items": null,
       "align_self": null,
       "border": null,
       "bottom": null,
       "display": null,
       "flex": null,
       "flex_flow": null,
       "grid_area": null,
       "grid_auto_columns": null,
       "grid_auto_flow": null,
       "grid_auto_rows": null,
       "grid_column": null,
       "grid_gap": null,
       "grid_row": null,
       "grid_template_areas": null,
       "grid_template_columns": null,
       "grid_template_rows": null,
       "height": null,
       "justify_content": null,
       "justify_items": null,
       "left": null,
       "margin": null,
       "max_height": null,
       "max_width": null,
       "min_height": null,
       "min_width": null,
       "object_fit": null,
       "object_position": null,
       "order": null,
       "overflow": null,
       "overflow_x": null,
       "overflow_y": null,
       "padding": null,
       "right": null,
       "top": null,
       "visibility": null,
       "width": null
      }
     },
     "5feb2a8d512b48ab995a4d432d7d5b8e": {
      "model_module": "@jupyter-widgets/base",
      "model_module_version": "1.2.0",
      "model_name": "LayoutModel",
      "state": {
       "_model_module": "@jupyter-widgets/base",
       "_model_module_version": "1.2.0",
       "_model_name": "LayoutModel",
       "_view_count": null,
       "_view_module": "@jupyter-widgets/base",
       "_view_module_version": "1.2.0",
       "_view_name": "LayoutView",
       "align_content": null,
       "align_items": null,
       "align_self": null,
       "border": null,
       "bottom": null,
       "display": null,
       "flex": null,
       "flex_flow": null,
       "grid_area": null,
       "grid_auto_columns": null,
       "grid_auto_flow": null,
       "grid_auto_rows": null,
       "grid_column": null,
       "grid_gap": null,
       "grid_row": null,
       "grid_template_areas": null,
       "grid_template_columns": null,
       "grid_template_rows": null,
       "height": null,
       "justify_content": null,
       "justify_items": null,
       "left": null,
       "margin": null,
       "max_height": null,
       "max_width": null,
       "min_height": null,
       "min_width": null,
       "object_fit": null,
       "object_position": null,
       "order": null,
       "overflow": null,
       "overflow_x": null,
       "overflow_y": null,
       "padding": null,
       "right": null,
       "top": null,
       "visibility": null,
       "width": null
      }
     },
     "619f086f1cc8453ab5e17ad25650a2a0": {
      "model_module": "@jupyter-widgets/base",
      "model_module_version": "1.2.0",
      "model_name": "LayoutModel",
      "state": {
       "_model_module": "@jupyter-widgets/base",
       "_model_module_version": "1.2.0",
       "_model_name": "LayoutModel",
       "_view_count": null,
       "_view_module": "@jupyter-widgets/base",
       "_view_module_version": "1.2.0",
       "_view_name": "LayoutView",
       "align_content": null,
       "align_items": null,
       "align_self": null,
       "border": null,
       "bottom": null,
       "display": null,
       "flex": null,
       "flex_flow": null,
       "grid_area": null,
       "grid_auto_columns": null,
       "grid_auto_flow": null,
       "grid_auto_rows": null,
       "grid_column": null,
       "grid_gap": null,
       "grid_row": null,
       "grid_template_areas": null,
       "grid_template_columns": null,
       "grid_template_rows": null,
       "height": null,
       "justify_content": null,
       "justify_items": null,
       "left": null,
       "margin": null,
       "max_height": null,
       "max_width": null,
       "min_height": null,
       "min_width": null,
       "object_fit": null,
       "object_position": null,
       "order": null,
       "overflow": null,
       "overflow_x": null,
       "overflow_y": null,
       "padding": null,
       "right": null,
       "top": null,
       "visibility": null,
       "width": null
      }
     },
     "636b5fe4d84f471e82c52e64cacc1219": {
      "model_module": "@jupyter-widgets/base",
      "model_module_version": "1.2.0",
      "model_name": "LayoutModel",
      "state": {
       "_model_module": "@jupyter-widgets/base",
       "_model_module_version": "1.2.0",
       "_model_name": "LayoutModel",
       "_view_count": null,
       "_view_module": "@jupyter-widgets/base",
       "_view_module_version": "1.2.0",
       "_view_name": "LayoutView",
       "align_content": null,
       "align_items": null,
       "align_self": null,
       "border": null,
       "bottom": null,
       "display": null,
       "flex": null,
       "flex_flow": null,
       "grid_area": null,
       "grid_auto_columns": null,
       "grid_auto_flow": null,
       "grid_auto_rows": null,
       "grid_column": null,
       "grid_gap": null,
       "grid_row": null,
       "grid_template_areas": null,
       "grid_template_columns": null,
       "grid_template_rows": null,
       "height": null,
       "justify_content": null,
       "justify_items": null,
       "left": null,
       "margin": null,
       "max_height": null,
       "max_width": null,
       "min_height": null,
       "min_width": null,
       "object_fit": null,
       "object_position": null,
       "order": null,
       "overflow": null,
       "overflow_x": null,
       "overflow_y": null,
       "padding": null,
       "right": null,
       "top": null,
       "visibility": null,
       "width": null
      }
     },
     "6d007657d31749bdb3275ae64f3f276e": {
      "model_module": "@jupyter-widgets/controls",
      "model_module_version": "1.5.0",
      "model_name": "HTMLModel",
      "state": {
       "_dom_classes": [],
       "_model_module": "@jupyter-widgets/controls",
       "_model_module_version": "1.5.0",
       "_model_name": "HTMLModel",
       "_view_count": null,
       "_view_module": "@jupyter-widgets/controls",
       "_view_module_version": "1.5.0",
       "_view_name": "HTMLView",
       "description": "",
       "description_tooltip": null,
       "layout": "IPY_MODEL_c1e531e7b30f47f7a52b96591a704f39",
       "placeholder": "​",
       "style": "IPY_MODEL_d4d56f461fa4412a8cb8693f9eddfea2",
       "value": " 420M/420M [00:19&lt;00:00, 11.1MB/s]"
      }
     },
     "6f539a6c5b7a48a486258f9978e186da": {
      "model_module": "@jupyter-widgets/base",
      "model_module_version": "1.2.0",
      "model_name": "LayoutModel",
      "state": {
       "_model_module": "@jupyter-widgets/base",
       "_model_module_version": "1.2.0",
       "_model_name": "LayoutModel",
       "_view_count": null,
       "_view_module": "@jupyter-widgets/base",
       "_view_module_version": "1.2.0",
       "_view_name": "LayoutView",
       "align_content": null,
       "align_items": null,
       "align_self": null,
       "border": null,
       "bottom": null,
       "display": null,
       "flex": null,
       "flex_flow": null,
       "grid_area": null,
       "grid_auto_columns": null,
       "grid_auto_flow": null,
       "grid_auto_rows": null,
       "grid_column": null,
       "grid_gap": null,
       "grid_row": null,
       "grid_template_areas": null,
       "grid_template_columns": null,
       "grid_template_rows": null,
       "height": null,
       "justify_content": null,
       "justify_items": null,
       "left": null,
       "margin": null,
       "max_height": null,
       "max_width": null,
       "min_height": null,
       "min_width": null,
       "object_fit": null,
       "object_position": null,
       "order": null,
       "overflow": null,
       "overflow_x": null,
       "overflow_y": null,
       "padding": null,
       "right": null,
       "top": null,
       "visibility": null,
       "width": null
      }
     },
     "734e1442c32048458d3f7dd5a3477ca7": {
      "model_module": "@jupyter-widgets/controls",
      "model_module_version": "1.5.0",
      "model_name": "ProgressStyleModel",
      "state": {
       "_model_module": "@jupyter-widgets/controls",
       "_model_module_version": "1.5.0",
       "_model_name": "ProgressStyleModel",
       "_view_count": null,
       "_view_module": "@jupyter-widgets/base",
       "_view_module_version": "1.2.0",
       "_view_name": "StyleView",
       "bar_color": null,
       "description_width": ""
      }
     },
     "73af8861427b4d2b90bba5fcd623b9ba": {
      "model_module": "@jupyter-widgets/base",
      "model_module_version": "1.2.0",
      "model_name": "LayoutModel",
      "state": {
       "_model_module": "@jupyter-widgets/base",
       "_model_module_version": "1.2.0",
       "_model_name": "LayoutModel",
       "_view_count": null,
       "_view_module": "@jupyter-widgets/base",
       "_view_module_version": "1.2.0",
       "_view_name": "LayoutView",
       "align_content": null,
       "align_items": null,
       "align_self": null,
       "border": null,
       "bottom": null,
       "display": null,
       "flex": null,
       "flex_flow": null,
       "grid_area": null,
       "grid_auto_columns": null,
       "grid_auto_flow": null,
       "grid_auto_rows": null,
       "grid_column": null,
       "grid_gap": null,
       "grid_row": null,
       "grid_template_areas": null,
       "grid_template_columns": null,
       "grid_template_rows": null,
       "height": null,
       "justify_content": null,
       "justify_items": null,
       "left": null,
       "margin": null,
       "max_height": null,
       "max_width": null,
       "min_height": null,
       "min_width": null,
       "object_fit": null,
       "object_position": null,
       "order": null,
       "overflow": null,
       "overflow_x": null,
       "overflow_y": null,
       "padding": null,
       "right": null,
       "top": null,
       "visibility": null,
       "width": null
      }
     },
     "74a23ed51d2d4ecea383107680bf690c": {
      "model_module": "@jupyter-widgets/controls",
      "model_module_version": "1.5.0",
      "model_name": "HTMLModel",
      "state": {
       "_dom_classes": [],
       "_model_module": "@jupyter-widgets/controls",
       "_model_module_version": "1.5.0",
       "_model_name": "HTMLModel",
       "_view_count": null,
       "_view_module": "@jupyter-widgets/controls",
       "_view_module_version": "1.5.0",
       "_view_name": "HTMLView",
       "description": "",
       "description_tooltip": null,
       "layout": "IPY_MODEL_5a458ebec1064201a3f8ffe97c5d9ccb",
       "placeholder": "​",
       "style": "IPY_MODEL_a7bac4204e27408fa79c072c6f155cc4",
       "value": "Downloading: 100%"
      }
     },
     "84fe176c5ef84a3e8823bc859d5af473": {
      "model_module": "@jupyter-widgets/controls",
      "model_module_version": "1.5.0",
      "model_name": "FloatProgressModel",
      "state": {
       "_dom_classes": [],
       "_model_module": "@jupyter-widgets/controls",
       "_model_module_version": "1.5.0",
       "_model_name": "FloatProgressModel",
       "_view_count": null,
       "_view_module": "@jupyter-widgets/controls",
       "_view_module_version": "1.5.0",
       "_view_name": "ProgressView",
       "bar_style": "success",
       "description": "",
       "description_tooltip": null,
       "layout": "IPY_MODEL_636b5fe4d84f471e82c52e64cacc1219",
       "max": 28.0,
       "min": 0.0,
       "orientation": "horizontal",
       "style": "IPY_MODEL_734e1442c32048458d3f7dd5a3477ca7",
       "value": 28.0
      }
     },
     "8d4f804e342949d3b4d5b77c63f3b2ff": {
      "model_module": "@jupyter-widgets/controls",
      "model_module_version": "1.5.0",
      "model_name": "DescriptionStyleModel",
      "state": {
       "_model_module": "@jupyter-widgets/controls",
       "_model_module_version": "1.5.0",
       "_model_name": "DescriptionStyleModel",
       "_view_count": null,
       "_view_module": "@jupyter-widgets/base",
       "_view_module_version": "1.2.0",
       "_view_name": "StyleView",
       "description_width": ""
      }
     },
     "91add0efed8c47f19e7bce9adbfd48ab": {
      "model_module": "@jupyter-widgets/base",
      "model_module_version": "1.2.0",
      "model_name": "LayoutModel",
      "state": {
       "_model_module": "@jupyter-widgets/base",
       "_model_module_version": "1.2.0",
       "_model_name": "LayoutModel",
       "_view_count": null,
       "_view_module": "@jupyter-widgets/base",
       "_view_module_version": "1.2.0",
       "_view_name": "LayoutView",
       "align_content": null,
       "align_items": null,
       "align_self": null,
       "border": null,
       "bottom": null,
       "display": null,
       "flex": null,
       "flex_flow": null,
       "grid_area": null,
       "grid_auto_columns": null,
       "grid_auto_flow": null,
       "grid_auto_rows": null,
       "grid_column": null,
       "grid_gap": null,
       "grid_row": null,
       "grid_template_areas": null,
       "grid_template_columns": null,
       "grid_template_rows": null,
       "height": null,
       "justify_content": null,
       "justify_items": null,
       "left": null,
       "margin": null,
       "max_height": null,
       "max_width": null,
       "min_height": null,
       "min_width": null,
       "object_fit": null,
       "object_position": null,
       "order": null,
       "overflow": null,
       "overflow_x": null,
       "overflow_y": null,
       "padding": null,
       "right": null,
       "top": null,
       "visibility": null,
       "width": null
      }
     },
     "93604e40980f42a0a631eddf1df41d0b": {
      "model_module": "@jupyter-widgets/base",
      "model_module_version": "1.2.0",
      "model_name": "LayoutModel",
      "state": {
       "_model_module": "@jupyter-widgets/base",
       "_model_module_version": "1.2.0",
       "_model_name": "LayoutModel",
       "_view_count": null,
       "_view_module": "@jupyter-widgets/base",
       "_view_module_version": "1.2.0",
       "_view_name": "LayoutView",
       "align_content": null,
       "align_items": null,
       "align_self": null,
       "border": null,
       "bottom": null,
       "display": null,
       "flex": null,
       "flex_flow": null,
       "grid_area": null,
       "grid_auto_columns": null,
       "grid_auto_flow": null,
       "grid_auto_rows": null,
       "grid_column": null,
       "grid_gap": null,
       "grid_row": null,
       "grid_template_areas": null,
       "grid_template_columns": null,
       "grid_template_rows": null,
       "height": null,
       "justify_content": null,
       "justify_items": null,
       "left": null,
       "margin": null,
       "max_height": null,
       "max_width": null,
       "min_height": null,
       "min_width": null,
       "object_fit": null,
       "object_position": null,
       "order": null,
       "overflow": null,
       "overflow_x": null,
       "overflow_y": null,
       "padding": null,
       "right": null,
       "top": null,
       "visibility": null,
       "width": null
      }
     },
     "98e68e8a99e74db2abb0f39a21075113": {
      "model_module": "@jupyter-widgets/controls",
      "model_module_version": "1.5.0",
      "model_name": "HTMLModel",
      "state": {
       "_dom_classes": [],
       "_model_module": "@jupyter-widgets/controls",
       "_model_module_version": "1.5.0",
       "_model_name": "HTMLModel",
       "_view_count": null,
       "_view_module": "@jupyter-widgets/controls",
       "_view_module_version": "1.5.0",
       "_view_name": "HTMLView",
       "description": "",
       "description_tooltip": null,
       "layout": "IPY_MODEL_93604e40980f42a0a631eddf1df41d0b",
       "placeholder": "​",
       "style": "IPY_MODEL_c563723abdfd46adbff20148090b846e",
       "value": "Downloading: 100%"
      }
     },
     "9c536d444787448f99965f53631925fe": {
      "model_module": "@jupyter-widgets/controls",
      "model_module_version": "1.5.0",
      "model_name": "HBoxModel",
      "state": {
       "_dom_classes": [],
       "_model_module": "@jupyter-widgets/controls",
       "_model_module_version": "1.5.0",
       "_model_name": "HBoxModel",
       "_view_count": null,
       "_view_module": "@jupyter-widgets/controls",
       "_view_module_version": "1.5.0",
       "_view_name": "HBoxView",
       "box_style": "",
       "children": [
        "IPY_MODEL_b10306ac365f4a68852248e67acf77e9",
        "IPY_MODEL_84fe176c5ef84a3e8823bc859d5af473",
        "IPY_MODEL_bc28575e6ed24062a960bcd650286617"
       ],
       "layout": "IPY_MODEL_44e7240195644e2f8813f25c8a2b2e01"
      }
     },
     "9e9f11ac7446483fbd619af5544e1d95": {
      "model_module": "@jupyter-widgets/base",
      "model_module_version": "1.2.0",
      "model_name": "LayoutModel",
      "state": {
       "_model_module": "@jupyter-widgets/base",
       "_model_module_version": "1.2.0",
       "_model_name": "LayoutModel",
       "_view_count": null,
       "_view_module": "@jupyter-widgets/base",
       "_view_module_version": "1.2.0",
       "_view_name": "LayoutView",
       "align_content": null,
       "align_items": null,
       "align_self": null,
       "border": null,
       "bottom": null,
       "display": null,
       "flex": null,
       "flex_flow": null,
       "grid_area": null,
       "grid_auto_columns": null,
       "grid_auto_flow": null,
       "grid_auto_rows": null,
       "grid_column": null,
       "grid_gap": null,
       "grid_row": null,
       "grid_template_areas": null,
       "grid_template_columns": null,
       "grid_template_rows": null,
       "height": null,
       "justify_content": null,
       "justify_items": null,
       "left": null,
       "margin": null,
       "max_height": null,
       "max_width": null,
       "min_height": null,
       "min_width": null,
       "object_fit": null,
       "object_position": null,
       "order": null,
       "overflow": null,
       "overflow_x": null,
       "overflow_y": null,
       "padding": null,
       "right": null,
       "top": null,
       "visibility": null,
       "width": null
      }
     },
     "a01f39807b59498d8cc528a899e1861f": {
      "model_module": "@jupyter-widgets/controls",
      "model_module_version": "1.5.0",
      "model_name": "FloatProgressModel",
      "state": {
       "_dom_classes": [],
       "_model_module": "@jupyter-widgets/controls",
       "_model_module_version": "1.5.0",
       "_model_name": "FloatProgressModel",
       "_view_count": null,
       "_view_module": "@jupyter-widgets/controls",
       "_view_module_version": "1.5.0",
       "_view_name": "ProgressView",
       "bar_style": "success",
       "description": "",
       "description_tooltip": null,
       "layout": "IPY_MODEL_91add0efed8c47f19e7bce9adbfd48ab",
       "max": 570.0,
       "min": 0.0,
       "orientation": "horizontal",
       "style": "IPY_MODEL_a0685c13ec6e429fb24386eeab3bcec5",
       "value": 570.0
      }
     },
     "a0685c13ec6e429fb24386eeab3bcec5": {
      "model_module": "@jupyter-widgets/controls",
      "model_module_version": "1.5.0",
      "model_name": "ProgressStyleModel",
      "state": {
       "_model_module": "@jupyter-widgets/controls",
       "_model_module_version": "1.5.0",
       "_model_name": "ProgressStyleModel",
       "_view_count": null,
       "_view_module": "@jupyter-widgets/base",
       "_view_module_version": "1.2.0",
       "_view_name": "StyleView",
       "bar_color": null,
       "description_width": ""
      }
     },
     "a7bac4204e27408fa79c072c6f155cc4": {
      "model_module": "@jupyter-widgets/controls",
      "model_module_version": "1.5.0",
      "model_name": "DescriptionStyleModel",
      "state": {
       "_model_module": "@jupyter-widgets/controls",
       "_model_module_version": "1.5.0",
       "_model_name": "DescriptionStyleModel",
       "_view_count": null,
       "_view_module": "@jupyter-widgets/base",
       "_view_module_version": "1.2.0",
       "_view_name": "StyleView",
       "description_width": ""
      }
     },
     "a7feba7ef60c4b74acdcebadf05bc958": {
      "model_module": "@jupyter-widgets/base",
      "model_module_version": "1.2.0",
      "model_name": "LayoutModel",
      "state": {
       "_model_module": "@jupyter-widgets/base",
       "_model_module_version": "1.2.0",
       "_model_name": "LayoutModel",
       "_view_count": null,
       "_view_module": "@jupyter-widgets/base",
       "_view_module_version": "1.2.0",
       "_view_name": "LayoutView",
       "align_content": null,
       "align_items": null,
       "align_self": null,
       "border": null,
       "bottom": null,
       "display": null,
       "flex": null,
       "flex_flow": null,
       "grid_area": null,
       "grid_auto_columns": null,
       "grid_auto_flow": null,
       "grid_auto_rows": null,
       "grid_column": null,
       "grid_gap": null,
       "grid_row": null,
       "grid_template_areas": null,
       "grid_template_columns": null,
       "grid_template_rows": null,
       "height": null,
       "justify_content": null,
       "justify_items": null,
       "left": null,
       "margin": null,
       "max_height": null,
       "max_width": null,
       "min_height": null,
       "min_width": null,
       "object_fit": null,
       "object_position": null,
       "order": null,
       "overflow": null,
       "overflow_x": null,
       "overflow_y": null,
       "padding": null,
       "right": null,
       "top": null,
       "visibility": null,
       "width": null
      }
     },
     "b10306ac365f4a68852248e67acf77e9": {
      "model_module": "@jupyter-widgets/controls",
      "model_module_version": "1.5.0",
      "model_name": "HTMLModel",
      "state": {
       "_dom_classes": [],
       "_model_module": "@jupyter-widgets/controls",
       "_model_module_version": "1.5.0",
       "_model_name": "HTMLModel",
       "_view_count": null,
       "_view_module": "@jupyter-widgets/controls",
       "_view_module_version": "1.5.0",
       "_view_name": "HTMLView",
       "description": "",
       "description_tooltip": null,
       "layout": "IPY_MODEL_73af8861427b4d2b90bba5fcd623b9ba",
       "placeholder": "​",
       "style": "IPY_MODEL_b509092defb549c4ac80ca81f73c2b3e",
       "value": "Downloading: 100%"
      }
     },
     "b509092defb549c4ac80ca81f73c2b3e": {
      "model_module": "@jupyter-widgets/controls",
      "model_module_version": "1.5.0",
      "model_name": "DescriptionStyleModel",
      "state": {
       "_model_module": "@jupyter-widgets/controls",
       "_model_module_version": "1.5.0",
       "_model_name": "DescriptionStyleModel",
       "_view_count": null,
       "_view_module": "@jupyter-widgets/base",
       "_view_module_version": "1.2.0",
       "_view_name": "StyleView",
       "description_width": ""
      }
     },
     "ba8fa6d35c704880a992a4d91b8978bb": {
      "model_module": "@jupyter-widgets/controls",
      "model_module_version": "1.5.0",
      "model_name": "HTMLModel",
      "state": {
       "_dom_classes": [],
       "_model_module": "@jupyter-widgets/controls",
       "_model_module_version": "1.5.0",
       "_model_name": "HTMLModel",
       "_view_count": null,
       "_view_module": "@jupyter-widgets/controls",
       "_view_module_version": "1.5.0",
       "_view_name": "HTMLView",
       "description": "",
       "description_tooltip": null,
       "layout": "IPY_MODEL_9e9f11ac7446483fbd619af5544e1d95",
       "placeholder": "​",
       "style": "IPY_MODEL_8d4f804e342949d3b4d5b77c63f3b2ff",
       "value": " 226k/226k [00:00&lt;00:00, 638kB/s]"
      }
     },
     "bc28575e6ed24062a960bcd650286617": {
      "model_module": "@jupyter-widgets/controls",
      "model_module_version": "1.5.0",
      "model_name": "HTMLModel",
      "state": {
       "_dom_classes": [],
       "_model_module": "@jupyter-widgets/controls",
       "_model_module_version": "1.5.0",
       "_model_name": "HTMLModel",
       "_view_count": null,
       "_view_module": "@jupyter-widgets/controls",
       "_view_module_version": "1.5.0",
       "_view_name": "HTMLView",
       "description": "",
       "description_tooltip": null,
       "layout": "IPY_MODEL_cf056cc1802a40ab8c5c06c68a7338b1",
       "placeholder": "​",
       "style": "IPY_MODEL_fff2f42cd30e4423957d2a2c886619a9",
       "value": " 28.0/28.0 [00:00&lt;00:00, 1.09kB/s]"
      }
     },
     "c196dba896a34d0dbcfc3cdc127151b8": {
      "model_module": "@jupyter-widgets/controls",
      "model_module_version": "1.5.0",
      "model_name": "HBoxModel",
      "state": {
       "_dom_classes": [],
       "_model_module": "@jupyter-widgets/controls",
       "_model_module_version": "1.5.0",
       "_model_name": "HBoxModel",
       "_view_count": null,
       "_view_module": "@jupyter-widgets/controls",
       "_view_module_version": "1.5.0",
       "_view_name": "HBoxView",
       "box_style": "",
       "children": [
        "IPY_MODEL_e9cd113fc69549919f3c0377c8e5e2d5",
        "IPY_MODEL_a01f39807b59498d8cc528a899e1861f",
        "IPY_MODEL_d3045241ae4e41838dd61543dbe729f4"
       ],
       "layout": "IPY_MODEL_e9416594b5bc4ec68d78d194785b3b3b"
      }
     },
     "c1e531e7b30f47f7a52b96591a704f39": {
      "model_module": "@jupyter-widgets/base",
      "model_module_version": "1.2.0",
      "model_name": "LayoutModel",
      "state": {
       "_model_module": "@jupyter-widgets/base",
       "_model_module_version": "1.2.0",
       "_model_name": "LayoutModel",
       "_view_count": null,
       "_view_module": "@jupyter-widgets/base",
       "_view_module_version": "1.2.0",
       "_view_name": "LayoutView",
       "align_content": null,
       "align_items": null,
       "align_self": null,
       "border": null,
       "bottom": null,
       "display": null,
       "flex": null,
       "flex_flow": null,
       "grid_area": null,
       "grid_auto_columns": null,
       "grid_auto_flow": null,
       "grid_auto_rows": null,
       "grid_column": null,
       "grid_gap": null,
       "grid_row": null,
       "grid_template_areas": null,
       "grid_template_columns": null,
       "grid_template_rows": null,
       "height": null,
       "justify_content": null,
       "justify_items": null,
       "left": null,
       "margin": null,
       "max_height": null,
       "max_width": null,
       "min_height": null,
       "min_width": null,
       "object_fit": null,
       "object_position": null,
       "order": null,
       "overflow": null,
       "overflow_x": null,
       "overflow_y": null,
       "padding": null,
       "right": null,
       "top": null,
       "visibility": null,
       "width": null
      }
     },
     "c4fb63c0bade4813b0740d98430a3dd8": {
      "model_module": "@jupyter-widgets/controls",
      "model_module_version": "1.5.0",
      "model_name": "HBoxModel",
      "state": {
       "_dom_classes": [],
       "_model_module": "@jupyter-widgets/controls",
       "_model_module_version": "1.5.0",
       "_model_name": "HBoxModel",
       "_view_count": null,
       "_view_module": "@jupyter-widgets/controls",
       "_view_module_version": "1.5.0",
       "_view_name": "HBoxView",
       "box_style": "",
       "children": [
        "IPY_MODEL_74a23ed51d2d4ecea383107680bf690c",
        "IPY_MODEL_0c60a234f8e6441a82d94d29c4721d7a",
        "IPY_MODEL_ba8fa6d35c704880a992a4d91b8978bb"
       ],
       "layout": "IPY_MODEL_e93ffae8a655454697f088320f68b35d"
      }
     },
     "c563723abdfd46adbff20148090b846e": {
      "model_module": "@jupyter-widgets/controls",
      "model_module_version": "1.5.0",
      "model_name": "DescriptionStyleModel",
      "state": {
       "_model_module": "@jupyter-widgets/controls",
       "_model_module_version": "1.5.0",
       "_model_name": "DescriptionStyleModel",
       "_view_count": null,
       "_view_module": "@jupyter-widgets/base",
       "_view_module_version": "1.2.0",
       "_view_name": "StyleView",
       "description_width": ""
      }
     },
     "cc5f2d7c6fd14a489de1e926111b9b5e": {
      "model_module": "@jupyter-widgets/controls",
      "model_module_version": "1.5.0",
      "model_name": "DescriptionStyleModel",
      "state": {
       "_model_module": "@jupyter-widgets/controls",
       "_model_module_version": "1.5.0",
       "_model_name": "DescriptionStyleModel",
       "_view_count": null,
       "_view_module": "@jupyter-widgets/base",
       "_view_module_version": "1.2.0",
       "_view_name": "StyleView",
       "description_width": ""
      }
     },
     "cec06570e00841419cf14f17db8fff1c": {
      "model_module": "@jupyter-widgets/controls",
      "model_module_version": "1.5.0",
      "model_name": "DescriptionStyleModel",
      "state": {
       "_model_module": "@jupyter-widgets/controls",
       "_model_module_version": "1.5.0",
       "_model_name": "DescriptionStyleModel",
       "_view_count": null,
       "_view_module": "@jupyter-widgets/base",
       "_view_module_version": "1.2.0",
       "_view_name": "StyleView",
       "description_width": ""
      }
     },
     "cf056cc1802a40ab8c5c06c68a7338b1": {
      "model_module": "@jupyter-widgets/base",
      "model_module_version": "1.2.0",
      "model_name": "LayoutModel",
      "state": {
       "_model_module": "@jupyter-widgets/base",
       "_model_module_version": "1.2.0",
       "_model_name": "LayoutModel",
       "_view_count": null,
       "_view_module": "@jupyter-widgets/base",
       "_view_module_version": "1.2.0",
       "_view_name": "LayoutView",
       "align_content": null,
       "align_items": null,
       "align_self": null,
       "border": null,
       "bottom": null,
       "display": null,
       "flex": null,
       "flex_flow": null,
       "grid_area": null,
       "grid_auto_columns": null,
       "grid_auto_flow": null,
       "grid_auto_rows": null,
       "grid_column": null,
       "grid_gap": null,
       "grid_row": null,
       "grid_template_areas": null,
       "grid_template_columns": null,
       "grid_template_rows": null,
       "height": null,
       "justify_content": null,
       "justify_items": null,
       "left": null,
       "margin": null,
       "max_height": null,
       "max_width": null,
       "min_height": null,
       "min_width": null,
       "object_fit": null,
       "object_position": null,
       "order": null,
       "overflow": null,
       "overflow_x": null,
       "overflow_y": null,
       "padding": null,
       "right": null,
       "top": null,
       "visibility": null,
       "width": null
      }
     },
     "d3045241ae4e41838dd61543dbe729f4": {
      "model_module": "@jupyter-widgets/controls",
      "model_module_version": "1.5.0",
      "model_name": "HTMLModel",
      "state": {
       "_dom_classes": [],
       "_model_module": "@jupyter-widgets/controls",
       "_model_module_version": "1.5.0",
       "_model_name": "HTMLModel",
       "_view_count": null,
       "_view_module": "@jupyter-widgets/controls",
       "_view_module_version": "1.5.0",
       "_view_name": "HTMLView",
       "description": "",
       "description_tooltip": null,
       "layout": "IPY_MODEL_a7feba7ef60c4b74acdcebadf05bc958",
       "placeholder": "​",
       "style": "IPY_MODEL_cc5f2d7c6fd14a489de1e926111b9b5e",
       "value": " 570/570 [00:00&lt;00:00, 22.6kB/s]"
      }
     },
     "d4d56f461fa4412a8cb8693f9eddfea2": {
      "model_module": "@jupyter-widgets/controls",
      "model_module_version": "1.5.0",
      "model_name": "DescriptionStyleModel",
      "state": {
       "_model_module": "@jupyter-widgets/controls",
       "_model_module_version": "1.5.0",
       "_model_name": "DescriptionStyleModel",
       "_view_count": null,
       "_view_module": "@jupyter-widgets/base",
       "_view_module_version": "1.2.0",
       "_view_name": "StyleView",
       "description_width": ""
      }
     },
     "e49c98952fcc4336b7773ad7110d1e71": {
      "model_module": "@jupyter-widgets/controls",
      "model_module_version": "1.5.0",
      "model_name": "HBoxModel",
      "state": {
       "_dom_classes": [],
       "_model_module": "@jupyter-widgets/controls",
       "_model_module_version": "1.5.0",
       "_model_name": "HBoxModel",
       "_view_count": null,
       "_view_module": "@jupyter-widgets/controls",
       "_view_module_version": "1.5.0",
       "_view_name": "HBoxView",
       "box_style": "",
       "children": [
        "IPY_MODEL_98e68e8a99e74db2abb0f39a21075113",
        "IPY_MODEL_4f43cac0593e49b6a09ad8e9e6a7cfbd",
        "IPY_MODEL_6d007657d31749bdb3275ae64f3f276e"
       ],
       "layout": "IPY_MODEL_6f539a6c5b7a48a486258f9978e186da"
      }
     },
     "e93ffae8a655454697f088320f68b35d": {
      "model_module": "@jupyter-widgets/base",
      "model_module_version": "1.2.0",
      "model_name": "LayoutModel",
      "state": {
       "_model_module": "@jupyter-widgets/base",
       "_model_module_version": "1.2.0",
       "_model_name": "LayoutModel",
       "_view_count": null,
       "_view_module": "@jupyter-widgets/base",
       "_view_module_version": "1.2.0",
       "_view_name": "LayoutView",
       "align_content": null,
       "align_items": null,
       "align_self": null,
       "border": null,
       "bottom": null,
       "display": null,
       "flex": null,
       "flex_flow": null,
       "grid_area": null,
       "grid_auto_columns": null,
       "grid_auto_flow": null,
       "grid_auto_rows": null,
       "grid_column": null,
       "grid_gap": null,
       "grid_row": null,
       "grid_template_areas": null,
       "grid_template_columns": null,
       "grid_template_rows": null,
       "height": null,
       "justify_content": null,
       "justify_items": null,
       "left": null,
       "margin": null,
       "max_height": null,
       "max_width": null,
       "min_height": null,
       "min_width": null,
       "object_fit": null,
       "object_position": null,
       "order": null,
       "overflow": null,
       "overflow_x": null,
       "overflow_y": null,
       "padding": null,
       "right": null,
       "top": null,
       "visibility": null,
       "width": null
      }
     },
     "e9416594b5bc4ec68d78d194785b3b3b": {
      "model_module": "@jupyter-widgets/base",
      "model_module_version": "1.2.0",
      "model_name": "LayoutModel",
      "state": {
       "_model_module": "@jupyter-widgets/base",
       "_model_module_version": "1.2.0",
       "_model_name": "LayoutModel",
       "_view_count": null,
       "_view_module": "@jupyter-widgets/base",
       "_view_module_version": "1.2.0",
       "_view_name": "LayoutView",
       "align_content": null,
       "align_items": null,
       "align_self": null,
       "border": null,
       "bottom": null,
       "display": null,
       "flex": null,
       "flex_flow": null,
       "grid_area": null,
       "grid_auto_columns": null,
       "grid_auto_flow": null,
       "grid_auto_rows": null,
       "grid_column": null,
       "grid_gap": null,
       "grid_row": null,
       "grid_template_areas": null,
       "grid_template_columns": null,
       "grid_template_rows": null,
       "height": null,
       "justify_content": null,
       "justify_items": null,
       "left": null,
       "margin": null,
       "max_height": null,
       "max_width": null,
       "min_height": null,
       "min_width": null,
       "object_fit": null,
       "object_position": null,
       "order": null,
       "overflow": null,
       "overflow_x": null,
       "overflow_y": null,
       "padding": null,
       "right": null,
       "top": null,
       "visibility": null,
       "width": null
      }
     },
     "e9cd113fc69549919f3c0377c8e5e2d5": {
      "model_module": "@jupyter-widgets/controls",
      "model_module_version": "1.5.0",
      "model_name": "HTMLModel",
      "state": {
       "_dom_classes": [],
       "_model_module": "@jupyter-widgets/controls",
       "_model_module_version": "1.5.0",
       "_model_name": "HTMLModel",
       "_view_count": null,
       "_view_module": "@jupyter-widgets/controls",
       "_view_module_version": "1.5.0",
       "_view_name": "HTMLView",
       "description": "",
       "description_tooltip": null,
       "layout": "IPY_MODEL_619f086f1cc8453ab5e17ad25650a2a0",
       "placeholder": "​",
       "style": "IPY_MODEL_cec06570e00841419cf14f17db8fff1c",
       "value": "Downloading: 100%"
      }
     },
     "fff2f42cd30e4423957d2a2c886619a9": {
      "model_module": "@jupyter-widgets/controls",
      "model_module_version": "1.5.0",
      "model_name": "DescriptionStyleModel",
      "state": {
       "_model_module": "@jupyter-widgets/controls",
       "_model_module_version": "1.5.0",
       "_model_name": "DescriptionStyleModel",
       "_view_count": null,
       "_view_module": "@jupyter-widgets/base",
       "_view_module_version": "1.2.0",
       "_view_name": "StyleView",
       "description_width": ""
      }
     }
    },
    "version_major": 2,
    "version_minor": 0
   }
  }
 },
 "nbformat": 4,
 "nbformat_minor": 5
}
